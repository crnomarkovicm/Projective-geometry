{
 "cells": [
  {
   "cell_type": "code",
   "execution_count": 2,
   "metadata": {},
   "outputs": [],
   "source": [
    "import numpy as np\n",
    "import numpy.linalg as LA\n",
    "import matplotlib.pyplot as plt\n",
    "from mpl_toolkits.mplot3d import Axes3D\n",
    "%matplotlib notebook"
   ]
  },
  {
   "cell_type": "markdown",
   "metadata": {},
   "source": [
    "### Leva slika"
   ]
  },
  {
   "cell_type": "code",
   "execution_count": 3,
   "metadata": {},
   "outputs": [],
   "source": [
    "x1 = np.array([815, 112, 1])\n",
    "x2 = np.array([952, 163, 1])\n",
    "x3 = np.array([986, 126, 1])\n",
    "x4 = np.array([854, 80, 1])\n",
    "x5 = np.array([791, 303, 1])\n",
    "x6 = np.array([913, 358, 1])\n",
    "x7 = np.array([950, 318, 1])\n",
    "# Tacka x8 je nevidljiva\n",
    "x9 = np.array([322, 345, 1])\n",
    "x10 = np.array([454, 368, 1])\n",
    "x11 = np.array([509, 272, 1])\n",
    "x12 = np.array([388, 248, 1])\n",
    "x13 = np.array([364, 558, 1])\n",
    "x14 = np.array([478, 582, 1])\n",
    "x15 = np.array([526, 486, 1])\n",
    "# tacka x16 je nevidljiva\n",
    "x17 = np.array([137, 551, 1])\n",
    "x18 = np.array([434, 761, 1])\n",
    "x19 = np.array([817, 384, 1])\n",
    "x20 = np.array([549, 251, 1])\n",
    "x21 = np.array([174, 655, 1])\n",
    "x22 = np.array([449, 860, 1])\n",
    "x23 = np.array([806, 489, 1])\n",
    "# Tacka x24 je nevidljiva"
   ]
  },
  {
   "cell_type": "markdown",
   "metadata": {},
   "source": [
    "### Desna slika"
   ]
  },
  {
   "cell_type": "code",
   "execution_count": 4,
   "metadata": {},
   "outputs": [],
   "source": [
    "y1 = np.array([912, 445, 1])\n",
    "y2 = np.array([812, 559, 1])\n",
    "y3 = np.array([918, 611, 1])\n",
    "y4 = np.array([1014, 491, 1])\n",
    "# Tacka y5 je nevidljiva\n",
    "y6 = np.array([772, 769, 1])\n",
    "y7 = np.array([864, 823, 1])\n",
    "y8 = np.array([956, 702, 1])\n",
    "y9 = np.array([296, 74, 1])\n",
    "y10 = np.array([252,  119,  1])\n",
    "y11 = np.array([371,  137,  1])\n",
    "y12 = np.array([414,  88,  1])\n",
    "# Tacka y13 je nevidljiva\n",
    "y14 = np.array([287,  324,  1]) \n",
    "y15 = np.array([397,  342,  1])\n",
    "y16 = np.array([433,  288,  1])\n",
    "# Tacka y17 je nevidljiva\n",
    "y18 = np.array([135,  319,  1])\n",
    "y19 = np.array([527,  529,  1])\n",
    "y20 = np.array([744,  348,  1])\n",
    "# Tacka y21 je nevidljiva\n",
    "y22 = np.array([162,  425,  1])\n",
    "y23 = np.array([538,  642,  1])\n",
    "y24 = np.array([733,  454,  1])"
   ]
  },
  {
   "cell_type": "markdown",
   "metadata": {},
   "source": [
    "### Osam tacaka na osnovu kojih odredjujemo fundamentalnu matricu F\n",
    "#### Vektori xx i yy sadrze sve ove tacke"
   ]
  },
  {
   "cell_type": "code",
   "execution_count": 5,
   "metadata": {},
   "outputs": [],
   "source": [
    "xx = np.array([x1, x2, x3, x4, x6, x7, x9, x10])\n",
    "yy = np.array([y1, y2, y3, y4, y6, y7, y9, y10])"
   ]
  },
  {
   "cell_type": "markdown",
   "metadata": {},
   "source": [
    "### Funkcija koja pravi jednu jednacinu oblika y^T * F * x = 0"
   ]
  },
  {
   "cell_type": "code",
   "execution_count": 6,
   "metadata": {},
   "outputs": [],
   "source": [
    "def equation(x, y):\n",
    "    a1 = x[0]\n",
    "    a2 = x[1]\n",
    "    a3 = x[2]\n",
    "    b1 = y[0]\n",
    "    b2 = y[1]\n",
    "    b3 = y[2]\n",
    "    \n",
    "    return np.matrix([[a1*b1, a2*b1, a3*b1, a1*b2, a2*b2, a3*b2, a1*b3, a2*b3, a3*b3]])"
   ]
  },
  {
   "cell_type": "markdown",
   "metadata": {},
   "source": [
    "### Pravi matricu formata 8x9 koja predstavlja 8 jednacina dobijenih iz korespodencija"
   ]
  },
  {
   "cell_type": "code",
   "execution_count": 7,
   "metadata": {},
   "outputs": [],
   "source": [
    "def MapThread(xx, yy):\n",
    "    matrix = equation(xx[0], yy[0])\n",
    "    n = len(xx)\n",
    "    for i in range(1, n):\n",
    "        tmp = equation(xx[i], yy[i])\n",
    "        matrix = np.concatenate((matrix, tmp), axis=0)\n",
    "        \n",
    "    return matrix"
   ]
  },
  {
   "cell_type": "code",
   "execution_count": 8,
   "metadata": {},
   "outputs": [],
   "source": [
    "jed8 = MapThread(xx, yy)"
   ]
  },
  {
   "cell_type": "markdown",
   "metadata": {},
   "source": [
    "### Radimo SVD dekompoziciju matrice jednacina formara 8x9 "
   ]
  },
  {
   "cell_type": "code",
   "execution_count": 9,
   "metadata": {},
   "outputs": [],
   "source": [
    "U, D, V = LA.svd(jed8)\n",
    "\n",
    "# print(\"Matrica U:\\n\", U)\n",
    "# print(\"\\nMatrica D:\\n\", np.diag(D))\n",
    "# print(\"\\nPrva kolona matrice V:\\n\", V[:, 0])"
   ]
  },
  {
   "cell_type": "markdown",
   "metadata": {},
   "source": [
    "### Koeficijenti matrice F su poslednja kolona matrice V "
   ]
  },
  {
   "cell_type": "code",
   "execution_count": 10,
   "metadata": {},
   "outputs": [
    {
     "name": "stdout",
     "output_type": "stream",
     "text": [
      "Fundamentalna matrica F:\n",
      " [[-8.54587907e-07 -1.76359397e-06 -5.74816900e-04]\n",
      " [-9.44653976e-07 -5.83381768e-07  3.42340633e-03]\n",
      " [-7.97167049e-04 -1.52909366e-03  9.99992488e-01]]\n"
     ]
    }
   ],
   "source": [
    "F = V[-1].reshape(3, 3)\n",
    "print(\"Fundamentalna matrica F:\\n\", F)"
   ]
  },
  {
   "cell_type": "code",
   "execution_count": 11,
   "metadata": {},
   "outputs": [
    {
     "name": "stdout",
     "output_type": "stream",
     "text": [
      "Determinanta fundamentalne matrice:\n",
      " -1.39103255195199e-12\n"
     ]
    }
   ],
   "source": [
    "print(\"Determinanta fundamentalne matrice:\\n\", LA.det(F))\n",
    "# Trebalo bi da bude bliska nuli"
   ]
  },
  {
   "cell_type": "markdown",
   "metadata": {},
   "source": [
    "### Funkcija koja proverava da li je y^T * F * x = 0 za odgovarajuce tacke"
   ]
  },
  {
   "cell_type": "code",
   "execution_count": 12,
   "metadata": {},
   "outputs": [],
   "source": [
    "def check(x, y):\n",
    "    tmp = np.dot(np.dot(y, F), x)\n",
    "    return tmp[0, 0]"
   ]
  },
  {
   "cell_type": "markdown",
   "metadata": {},
   "source": [
    "### Proveravamo da li je uslov vazi za svih 8 odgovarajucih tacaka"
   ]
  },
  {
   "cell_type": "code",
   "execution_count": 13,
   "metadata": {},
   "outputs": [
    {
     "name": "stdout",
     "output_type": "stream",
     "text": [
      "Provera da li vazi uslov:\n",
      " [-2.220446049250313e-16, -4.884981308350689e-15, -1.0658141036401503e-14, -1.021405182655144e-14, 1.5987211554602254e-14, 1.021405182655144e-14, -1.7763568394002505e-15, -1.2434497875801753e-14]\n"
     ]
    }
   ],
   "source": [
    "list = []\n",
    "for i in range(len(xx)):\n",
    "    element = check(xx[i], yy[i])\n",
    "    list.append(element)\n",
    "print(\"Provera da li vazi uslov:\\n\", list)"
   ]
  },
  {
   "cell_type": "markdown",
   "metadata": {},
   "source": [
    "### Da bismo nasli epipol e1 treba da resimo sistem F * e1 = 0, a to mozemo uraditi pomocu SVD dekompozicije\n",
    "### Treca kolona transponovane matrice V je bas e1, ona odgovara najmanjoj sopstvenoj vrednosti matrice"
   ]
  },
  {
   "cell_type": "code",
   "execution_count": 14,
   "metadata": {},
   "outputs": [
    {
     "name": "stdout",
     "output_type": "stream",
     "text": [
      "Matrica U:\n",
      " [[ 5.74812667e-04  5.08788846e-01 -8.60891155e-01]\n",
      " [-3.42340288e-03 -8.60885251e-01 -5.08787642e-01]\n",
      " [-9.99993975e-01  3.23963484e-03  1.24694145e-03]]\n",
      "\n",
      "Matrica DD:\n",
      " [[1.00000000e+00 0.00000000e+00 0.00000000e+00]\n",
      " [0.00000000e+00 5.78511517e-06 0.00000000e+00]\n",
      " [0.00000000e+00 0.00000000e+00 2.40450278e-07]]\n",
      "\n",
      "Transponovana matrica V:\n",
      " [[ 7.97164989e-04  1.52908543e-03 -9.99998513e-01]\n",
      " [-3.80994362e-01 -9.24575765e-01 -1.71747326e-03]\n",
      " [ 9.24577017e-01 -3.80995165e-01  1.54466500e-04]]\n"
     ]
    }
   ],
   "source": [
    "SVDF = LA.svd(F)\n",
    "U, DD, V = SVDF\n",
    "print(\"Matrica U:\\n\", U)\n",
    "print(\"\\nMatrica DD:\\n\", np.diag(DD))\n",
    "print(\"\\nTransponovana matrica V:\\n\", V)"
   ]
  },
  {
   "cell_type": "code",
   "execution_count": 15,
   "metadata": {},
   "outputs": [],
   "source": [
    "V = np.transpose(V)"
   ]
  },
  {
   "cell_type": "code",
   "execution_count": 16,
   "metadata": {},
   "outputs": [
    {
     "name": "stdout",
     "output_type": "stream",
     "text": [
      "Epipol e1:\n",
      " [[ 9.24577017e-01 -3.80995165e-01  1.54466500e-04]]\n"
     ]
    }
   ],
   "source": [
    "e1 = np.transpose(V[:, 2])\n",
    "print(\"Epipol e1:\\n\", e1)"
   ]
  },
  {
   "cell_type": "code",
   "execution_count": 17,
   "metadata": {},
   "outputs": [
    {
     "name": "stdout",
     "output_type": "stream",
     "text": [
      "Afine koordinate epipola e1:\n",
      " [[ 5.98561512e+03 -2.46652294e+03  1.00000000e+00]]\n"
     ]
    }
   ],
   "source": [
    "e1 = e1 / e1[0, 2]\n",
    "print(\"Afine koordinate epipola e1:\\n\", e1)"
   ]
  },
  {
   "cell_type": "markdown",
   "metadata": {},
   "source": [
    "### Da bismo nasli epipol e2 treba da resimo sistem F^T * e2 = 0\n",
    "### F^T je ustvari (UDV^T)^T  = VDU^T, tako da ako je (U, D, V) dekompozicija od F, onda ce (V, D, U) biti SVD dekompozicija od F^T\n",
    "### Zato je e2 treca kolona matrice U"
   ]
  },
  {
   "cell_type": "code",
   "execution_count": 18,
   "metadata": {},
   "outputs": [
    {
     "name": "stdout",
     "output_type": "stream",
     "text": [
      "Epipol e2:\n",
      " [[-0.86089115 -0.50878764  0.00124694]]\n"
     ]
    }
   ],
   "source": [
    "e2 = (U[:, 2])\n",
    "e2 = np.transpose(e2)\n",
    "print(\"Epipol e2:\\n\", e2)"
   ]
  },
  {
   "cell_type": "code",
   "execution_count": 19,
   "metadata": {},
   "outputs": [
    {
     "name": "stdout",
     "output_type": "stream",
     "text": [
      "Afine koordinate e2:\n",
      " [[-690.40222584 -408.02849332    1.        ]]\n"
     ]
    }
   ],
   "source": [
    "e2 = e2 / e2[0, 2]\n",
    "print(\"Afine koordinate e2:\\n\", e2)"
   ]
  },
  {
   "cell_type": "markdown",
   "metadata": {},
   "source": [
    "### Postizanje uslova det(F)  = 0"
   ]
  },
  {
   "cell_type": "code",
   "execution_count": 20,
   "metadata": {},
   "outputs": [
    {
     "name": "stdout",
     "output_type": "stream",
     "text": [
      "DD1: \n",
      " [[1.00000000e+00 0.00000000e+00 0.00000000e+00]\n",
      " [0.00000000e+00 5.78511517e-06 0.00000000e+00]\n",
      " [0.00000000e+00 0.00000000e+00 0.00000000e+00]]\n"
     ]
    }
   ],
   "source": [
    "DD1 = np.diag([1, 1, 0]) * DD\n",
    "print(\"DD1: \\n\", DD1)"
   ]
  },
  {
   "cell_type": "code",
   "execution_count": 21,
   "metadata": {},
   "outputs": [
    {
     "name": "stdout",
     "output_type": "stream",
     "text": [
      "F:\n",
      " [[-8.54587907e-07 -1.76359397e-06 -5.74816900e-04]\n",
      " [-9.44653976e-07 -5.83381768e-07  3.42340633e-03]\n",
      " [-7.97167049e-04 -1.52909366e-03  9.99992488e-01]]\n",
      "\n",
      "FF1:\n",
      " [[-6.63199061e-07 -1.84246055e-06 -5.74816868e-04]\n",
      " [-8.31542953e-07 -6.29992004e-07  3.42340635e-03]\n",
      " [-7.97167326e-04 -1.52909355e-03  9.99992488e-01]]\n"
     ]
    }
   ],
   "source": [
    "FF1 = np.dot(np.dot(U, DD1), np.transpose(V))\n",
    "print(\"F:\\n\", F)\n",
    "print(\"\\nFF1:\\n\", FF1)"
   ]
  },
  {
   "cell_type": "code",
   "execution_count": 22,
   "metadata": {},
   "outputs": [
    {
     "name": "stdout",
     "output_type": "stream",
     "text": [
      "det(F):\n",
      " -1.39103255195199e-12\n",
      "\n",
      "det(FF1):\n",
      " -5.83852136586141e-28\n"
     ]
    }
   ],
   "source": [
    "print(\"det(F):\\n\", LA.det(F))\n",
    "print(\"\\ndet(FF1):\\n\", LA.det(FF1))"
   ]
  },
  {
   "cell_type": "markdown",
   "metadata": {},
   "source": [
    "### F i FF1 imaju iste matrice U i V u SVD dekompoziciji, pa samim tim imaju i iste epipolove\n",
    "### Nadalje cemo koristiti FF1"
   ]
  },
  {
   "cell_type": "markdown",
   "metadata": {},
   "source": [
    "## Rekonstrukcija skrivenih tacaka\n",
    "### Ovo je gruba procena, i preciznije bi bilo praviti preseke vise od dve paralelne prave"
   ]
  },
  {
   "cell_type": "code",
   "execution_count": 23,
   "metadata": {},
   "outputs": [
    {
     "data": {
      "text/plain": [
       "array([829., 265.,   1.])"
      ]
     },
     "execution_count": 23,
     "metadata": {},
     "output_type": "execute_result"
    }
   ],
   "source": [
    "x8 = np.cross(np.cross(np.cross(np.cross(x1, x5), np.cross(x7, x3)), x4), np.cross(np.cross(np.cross(x4, x1), np.cross(x2, x3)), x5))\n",
    "x8 = x8 / x8[2]\n",
    "x8.round()"
   ]
  },
  {
   "cell_type": "code",
   "execution_count": 24,
   "metadata": {},
   "outputs": [
    {
     "data": {
      "text/plain": [
       "array([418., 462.,   1.])"
      ]
     },
     "execution_count": 24,
     "metadata": {},
     "output_type": "execute_result"
    }
   ],
   "source": [
    "x16 = np.cross(np.cross(np.cross(np.cross(x9, x13), np.cross(x15, x11)), x12), np.cross(np.cross(np.cross(x12, x9), np.cross(x10, x11)), x13))\n",
    "x16 = x16 / x16[2]\n",
    "x16.round()"
   ]
  },
  {
   "cell_type": "code",
   "execution_count": 25,
   "metadata": {},
   "outputs": [
    {
     "data": {
      "text/plain": [
       "array([555., 351.,   1.])"
      ]
     },
     "execution_count": 25,
     "metadata": {},
     "output_type": "execute_result"
    }
   ],
   "source": [
    "x24 = np.cross(np.cross(np.cross(np.cross(x17, x21), np.cross(x23, x19)), x20), np.cross(np.cross(np.cross(x20, x17), np.cross(x18, x19)), x21))\n",
    "x24 = x24 / x24[2]\n",
    "x24.round()"
   ]
  },
  {
   "cell_type": "code",
   "execution_count": 26,
   "metadata": {},
   "outputs": [
    {
     "data": {
      "text/plain": [
       "array([865., 656.,   1.])"
      ]
     },
     "execution_count": 26,
     "metadata": {},
     "output_type": "execute_result"
    }
   ],
   "source": [
    "y5 = np.cross(np.cross(np.cross(np.cross(y4, y8), np.cross(y6, y2)), y1), np.cross(np.cross(np.cross(y4, y1), np.cross(y2, y3)), y8))\n",
    "y5 = y5 / y5[2]\n",
    "y5.round()"
   ]
  },
  {
   "cell_type": "code",
   "execution_count": 27,
   "metadata": {},
   "outputs": [
    {
     "data": {
      "text/plain": [
       "array([324., 262.,   1.])"
      ]
     },
     "execution_count": 27,
     "metadata": {},
     "output_type": "execute_result"
    }
   ],
   "source": [
    "y13 = np.cross(np.cross(np.cross(np.cross(y12, y16), np.cross(y14, y10)), y9), np.cross(np.cross(np.cross(y12, y9), np.cross(y10, y11)), y16))\n",
    "y13 = y13 / y13[2]\n",
    "y13.round()"
   ]
  },
  {
   "cell_type": "code",
   "execution_count": 28,
   "metadata": {},
   "outputs": [
    {
     "data": {
      "text/plain": [
       "array([403., 299.,   1.])"
      ]
     },
     "execution_count": 28,
     "metadata": {},
     "output_type": "execute_result"
    }
   ],
   "source": [
    "y17 = np.cross(np.cross(np.cross(np.cross(y19, y18), np.cross(y23, y22)), y24), np.cross(np.cross(np.cross(y20, y19), np.cross(y23, y24)), y22))\n",
    "y17 = y17 / y17[2]\n",
    "y17.round()"
   ]
  },
  {
   "cell_type": "code",
   "execution_count": 29,
   "metadata": {},
   "outputs": [
    {
     "data": {
      "text/plain": [
       "array([409., 361.,   1.])"
      ]
     },
     "execution_count": 29,
     "metadata": {},
     "output_type": "execute_result"
    }
   ],
   "source": [
    "y21 = np.cross(np.cross(np.cross(np.cross(y20, y24), np.cross(y22, y18)), y17), np.cross(np.cross(np.cross(y20, y17), np.cross(y18, y19)), y24))\n",
    "y21 = y21 / y21[2]\n",
    "y21.round()"
   ]
  },
  {
   "cell_type": "markdown",
   "metadata": {},
   "source": [
    "## Triangulacija\n",
    "### Pravimo kanonsku matricu kamere"
   ]
  },
  {
   "cell_type": "code",
   "execution_count": 30,
   "metadata": {},
   "outputs": [
    {
     "name": "stdout",
     "output_type": "stream",
     "text": [
      "Matrica T1:\n",
      " [[1. 0. 0. 0.]\n",
      " [0. 1. 0. 0.]\n",
      " [0. 0. 1. 0.]]\n"
     ]
    }
   ],
   "source": [
    "eye = np.eye(3)\n",
    "column = np.matrix([0, 0, 0])\n",
    "T1 = np.concatenate((eye, np.transpose(column)), axis = 1)\n",
    "print(\"Matrica T1:\\n\", T1)"
   ]
  },
  {
   "cell_type": "markdown",
   "metadata": {},
   "source": [
    "### Matrica vektorskog mnozenja"
   ]
  },
  {
   "cell_type": "code",
   "execution_count": 31,
   "metadata": {},
   "outputs": [],
   "source": [
    "def v_matrix(x):\n",
    "    p1 = x[0, 0]\n",
    "    p2 = x[0, 1]\n",
    "    p3 = x[0, 2]\n",
    "    matrix = np.matrix([[0, -p3, p2], [p3, 0, -p1], [-p2, p1, 0]])\n",
    "    return matrix"
   ]
  },
  {
   "cell_type": "code",
   "execution_count": 32,
   "metadata": {},
   "outputs": [
    {
     "name": "stdout",
     "output_type": "stream",
     "text": [
      "E2:\n",
      " [[   0.           -1.         -408.02849332]\n",
      " [   1.            0.          690.40222584]\n",
      " [ 408.02849332 -690.40222584    0.        ]]\n"
     ]
    }
   ],
   "source": [
    "E2 = v_matrix(e2)\n",
    "print(\"E2:\\n\", E2)"
   ]
  },
  {
   "cell_type": "markdown",
   "metadata": {},
   "source": [
    "### Matrica kamere T2"
   ]
  },
  {
   "cell_type": "code",
   "execution_count": 33,
   "metadata": {},
   "outputs": [
    {
     "name": "stdout",
     "output_type": "stream",
     "text": [
      "E2 * FF1:\n",
      " [[ 3.25267815e-01  6.23914367e-01 -4.08028852e+02]\n",
      " [-5.50366760e-01 -1.05569143e+00  6.90396465e+02]\n",
      " [ 3.03494992e-04 -3.16828519e-04 -2.59806902e+00]]\n",
      "\n",
      "e2:\n",
      " [[-690.40222584 -408.02849332    1.        ]]\n",
      "\n",
      "Matrica T2:\n",
      " [[ 3.25267815e-01  6.23914367e-01 -4.08028852e+02 -6.90402226e+02]\n",
      " [-5.50366760e-01 -1.05569143e+00  6.90396465e+02 -4.08028493e+02]\n",
      " [ 3.03494992e-04 -3.16828519e-04 -2.59806902e+00  1.00000000e+00]]\n"
     ]
    }
   ],
   "source": [
    "e2_ff1 = E2 * FF1\n",
    "print(\"E2 * FF1:\\n\", e2_ff1)\n",
    "print(\"\\ne2:\\n\", e2)\n",
    "T2 = np.concatenate((e2_ff1, np.transpose(e2)), axis=1)\n",
    "print(\"\\nMatrica T2:\\n\", T2)"
   ]
  },
  {
   "cell_type": "markdown",
   "metadata": {},
   "source": [
    "### Za svaku tacku dobijemo sistem od cetiri jednacine sa 4 homogene nepoznate. Uzimamo 3 jednacine"
   ]
  },
  {
   "cell_type": "code",
   "execution_count": 34,
   "metadata": {},
   "outputs": [],
   "source": [
    "def equations(x, y, T1, T2):\n",
    "    list = np.array([x[1] * T1[2] - x[2] * T1[1], -x[0] * T1[2] + x[2] * T1[0], y[1] * T2[2] - y[2] * T2[1], -y[0] * T2[2] + y[2] * T2[0]])\n",
    "    return np.matrix(list)"
   ]
  },
  {
   "cell_type": "code",
   "execution_count": 35,
   "metadata": {},
   "outputs": [
    {
     "name": "stdout",
     "output_type": "stream",
     "text": [
      "Matrica koja se dobija iz jednacina:\n",
      " [[ 0.00000000e+00 -1.00000000e+00  1.10000000e+02  0.00000000e+00]\n",
      " [ 1.00000000e+00  0.00000000e+00 -8.14000000e+02  0.00000000e+00]\n",
      " [ 6.85422031e-01  9.14702742e-01 -1.84653718e+03  8.53028493e+02]\n",
      " [ 4.84803821e-02  9.12861976e-01  1.96141010e+03 -1.60240223e+03]]\n"
     ]
    }
   ],
   "source": [
    "print(\"Matrica koja se dobija iz jednacina:\\n\", equations(x1, y1, T1, T2))"
   ]
  },
  {
   "cell_type": "code",
   "execution_count": 36,
   "metadata": {},
   "outputs": [
    {
     "name": "stdout",
     "output_type": "stream",
     "text": [
      "SVD dekompozicija jednacina:\n",
      "[[ 0.02831944  0.0973877   0.69195255  0.71478341]\n",
      " [-0.20956401 -0.72065157  0.52484868 -0.40159445]\n",
      " [-0.61217796 -0.42230499 -0.43757763  0.50539338]\n",
      " [ 0.76191803 -0.54114273 -0.23294067  0.26904295]]\n",
      "\n",
      " [[3.29700742e+03 0.00000000e+00 0.00000000e+00 0.00000000e+00]\n",
      " [0.00000000e+00 5.97176738e+02 0.00000000e+00 0.00000000e+00]\n",
      " [0.00000000e+00 0.00000000e+00 1.32222203e+00 0.00000000e+00]\n",
      " [0.00000000e+00 0.00000000e+00 0.00000000e+00 4.27045332e-02]]\n",
      "\n",
      " [[-1.79625374e-04  3.25281950e-05  8.48813168e-01 -5.28692891e-01]\n",
      " [-1.73540503e-03 -1.63713652e-03  5.28691176e-01  8.48810903e-01]\n",
      " [ 1.61569145e-01 -9.86860489e-01 -6.54050792e-04 -1.16568549e-03]\n",
      " [-9.86859852e-01 -1.61566377e-01 -1.19128986e-03 -1.58725969e-03]]\n"
     ]
    }
   ],
   "source": [
    "s, v, d = LA.svd(equations(x1, y1, T1, T2))\n",
    "print(\"SVD dekompozicija jednacina:\")\n",
    "print(s)\n",
    "print(\"\\n\", np.diag(v))\n",
    "print(\"\\n\", d)"
   ]
  },
  {
   "cell_type": "code",
   "execution_count": 37,
   "metadata": {},
   "outputs": [
    {
     "name": "stdout",
     "output_type": "stream",
     "text": [
      "Poslednja vrsta poslednje matrice SVD dekompozicije:\n",
      " [[-0.98685985 -0.16156638 -0.00119129 -0.00158726]]\n"
     ]
    }
   ],
   "source": [
    "print(\"Poslednja vrsta poslednje matrice SVD dekompozicije:\\n\"\n",
    "      , LA.svd(equations(x1, y1, T1, T2))[2][3])"
   ]
  },
  {
   "cell_type": "markdown",
   "metadata": {},
   "source": [
    "### Funkcija koja pretvara homogene koordinate tacke u afine"
   ]
  },
  {
   "cell_type": "code",
   "execution_count": 38,
   "metadata": {},
   "outputs": [],
   "source": [
    "def hom2af(x):\n",
    "    x = x / x[3]\n",
    "    return x[:-1]"
   ]
  },
  {
   "cell_type": "markdown",
   "metadata": {},
   "source": [
    "### Funkcija koja vraca 3D koordinate rekonstruisane tacke"
   ]
  },
  {
   "cell_type": "code",
   "execution_count": 39,
   "metadata": {},
   "outputs": [],
   "source": [
    "def ret3D_coords(x, y, T1, T2):\n",
    "    mat = np.transpose(LA.svd(equations(x, y, T1, T2))[2][3])\n",
    "    niz = np.array(mat)\n",
    "    return hom2af(niz)"
   ]
  },
  {
   "cell_type": "code",
   "execution_count": 40,
   "metadata": {},
   "outputs": [
    {
     "name": "stdout",
     "output_type": "stream",
     "text": [
      "3D koordinate za x2, y2:\n",
      " [[744.83901075]\n",
      " [144.36865134]\n",
      " [  0.76790375]]\n"
     ]
    }
   ],
   "source": [
    "print(\"3D koordinate za x2, y2:\\n\", ret3D_coords(x2, y2, T1, T2))"
   ]
  },
  {
   "cell_type": "code",
   "execution_count": 41,
   "metadata": {},
   "outputs": [],
   "source": [
    "slika_leva = np.array([x1, x2, x3, x4, x5, x6, x7, x8, x9, x10, x11, x12, x13, x14, x15, x16, x17, x18, x19, x20, x21, x22, x23, x24])\n",
    "slika_desna = np.array([y1, y2, y3, y4, y5, y6, y7, y8, y9, y10, y11, y12, y13, y14, y15, y16, y17, y18, y19, y20, y21, y22, y23, y24])"
   ]
  },
  {
   "cell_type": "markdown",
   "metadata": {},
   "source": [
    "### Rekonstruisemo 3D koordinate tacaka"
   ]
  },
  {
   "cell_type": "code",
   "execution_count": 42,
   "metadata": {},
   "outputs": [],
   "source": [
    "def MapThread2(slika_leva, slika_desna):\n",
    "    rekonstruisane = []\n",
    "    for i in range(len(slika_leva)):\n",
    "        tmp = ret3D_coords(slika_leva[i], slika_desna[i], T1, T2)\n",
    "        rekonstruisane.append(tmp)\n",
    "        print(f\"\\n{i}. rekonstrukcija:\\n{tmp}\")\n",
    "    return rekonstruisane"
   ]
  },
  {
   "cell_type": "code",
   "execution_count": 43,
   "metadata": {},
   "outputs": [
    {
     "name": "stdout",
     "output_type": "stream",
     "text": [
      "\n",
      "0. rekonstrukcija:\n",
      "[[621.73811729]\n",
      " [101.78950396]\n",
      " [  0.75053242]]\n",
      "\n",
      "1. rekonstrukcija:\n",
      "[[744.83901075]\n",
      " [144.36865134]\n",
      " [  0.76790375]]\n",
      "\n",
      "2. rekonstrukcija:\n",
      "[[7.42936505e+02]\n",
      " [1.14469055e+02]\n",
      " [7.37837559e-01]]\n",
      "\n",
      "3. rekonstrukcija:\n",
      "[[630.29640227]\n",
      " [ 77.211024  ]\n",
      " [  0.72431652]]\n",
      "\n",
      "4. rekonstrukcija:\n",
      "[[570.55451391]\n",
      " [231.18673188]\n",
      " [  0.70940143]]\n",
      "\n",
      "5. rekonstrukcija:\n",
      "[[669.30586797]\n",
      " [276.47912392]\n",
      " [  0.72091467]]\n",
      "\n",
      "6. rekonstrukcija:\n",
      "[[676.24791944]\n",
      " [242.19322184]\n",
      " [  0.69914009]]\n",
      "\n",
      "7. rekonstrukcija:\n",
      "[[582.20266369]\n",
      " [200.87347144]\n",
      " [  0.68968194]]\n",
      "\n",
      "8. rekonstrukcija:\n",
      "[[463.84004629]\n",
      " [498.90721802]\n",
      " [  1.43399339]]\n",
      "\n",
      "9. rekonstrukcija:\n",
      "[[688.94198861]\n",
      " [562.53284009]\n",
      " [  1.50936027]]\n",
      "\n",
      "10. rekonstrukcija:\n",
      "[[621.80991676]\n",
      " [340.53460525]\n",
      " [  1.2098675 ]]\n",
      "\n",
      "11. rekonstrukcija:\n",
      "[[457.66525357]\n",
      " [301.06475582]\n",
      " [  1.17194439]]\n",
      "\n",
      "12. rekonstrukcija:\n",
      "[[400.664567  ]\n",
      " [613.60855556]\n",
      " [  1.10566044]]\n",
      "\n",
      "13. rekonstrukcija:\n",
      "[[537.35108309]\n",
      " [656.37954971]\n",
      " [  1.11642669]]\n",
      "\n",
      "14. rekonstrukcija:\n",
      "[[521.56290294]\n",
      " [485.05402611]\n",
      " [  0.98486993]]\n",
      "\n",
      "15. rekonstrukcija:\n",
      "[[408.7110447 ]\n",
      " [453.92350128]\n",
      " [  0.97164236]]\n",
      "\n",
      "16. rekonstrukcija:\n",
      "[[156.95686744]\n",
      " [577.83751888]\n",
      " [  0.95053978]]\n",
      "\n",
      "17. rekonstrukcija:\n",
      "[[ 623.25394091]\n",
      " [1092.78633575]\n",
      " [   1.43203938]]\n",
      "\n",
      "18. rekonstrukcija:\n",
      "[[706.23175648]\n",
      " [344.65234858]\n",
      " [  0.851365  ]]\n",
      "\n",
      "19. rekonstrukcija:\n",
      "[[440.95152578]\n",
      " [212.83380338]\n",
      " [  0.78828504]]\n",
      "\n",
      "20. rekonstrukcija:\n",
      "[[169.21326341]\n",
      " [615.137348  ]\n",
      " [  0.90540275]]\n",
      "\n",
      "21. rekonstrukcija:\n",
      "[[ 533.80905663]\n",
      " [1022.63969198]\n",
      " [   1.19065691]]\n",
      "\n",
      "22. rekonstrukcija:\n",
      "[[654.56297483]\n",
      " [404.29340745]\n",
      " [  0.80191502]]\n",
      "\n",
      "23. rekonstrukcija:\n",
      "[[428.25762925]\n",
      " [278.62328354]\n",
      " [  0.75898768]]\n"
     ]
    }
   ],
   "source": [
    "rekonstruisane = MapThread2(slika_leva, slika_desna)"
   ]
  },
  {
   "cell_type": "code",
   "execution_count": 44,
   "metadata": {},
   "outputs": [
    {
     "name": "stdout",
     "output_type": "stream",
     "text": [
      "Rekonstruisane400:\n",
      "[621.73811729 101.78950396 300.21296946]\n",
      "[744.83901075 144.36865134 307.16149971]\n",
      "[742.93650479 114.46905535 295.13502353]\n",
      "[630.29640227  77.211024   289.72660758]\n",
      "[570.55451391 231.18673188 283.76057124]\n",
      "[669.30586797 276.47912392 288.36586776]\n",
      "[676.24791944 242.19322184 279.65603717]\n",
      "[582.20266369 200.87347144 275.87277525]\n",
      "[463.84004629 498.90721802 573.59735405]\n",
      "[688.94198861 562.53284009 603.74410962]\n",
      "[621.80991676 340.53460525 483.94700047]\n",
      "[457.66525357 301.06475582 468.77775647]\n",
      "[400.664567   613.60855556 442.26417451]\n",
      "[537.35108309 656.37954971 446.57067732]\n",
      "[521.56290294 485.05402611 393.94797335]\n",
      "[408.7110447  453.92350128 388.65694387]\n",
      "[156.95686744 577.83751888 380.21591105]\n",
      "[ 623.25394091 1092.78633575  572.81575117]\n",
      "[706.23175648 344.65234858 340.54599977]\n",
      "[440.95152578 212.83380338 315.31401771]\n",
      "[169.21326341 615.137348   362.16110185]\n",
      "[ 533.80905663 1022.63969198  476.26276283]\n",
      "[654.56297483 404.29340745 320.76600741]\n",
      "[428.25762925 278.62328354 303.59507192]\n"
     ]
    }
   ],
   "source": [
    "# Mnozimo z koordinatu sa nekoliko stotina jer nije radjena normalizacija, treca koordinata je bila znacajno manja \n",
    "dig = np.eye(3)\n",
    "dig[2][2] = 400\n",
    "rekonstruisane400 = np.zeros((24, 3))\n",
    "print(\"Rekonstruisane400:\")\n",
    "for i in range(len(rekonstruisane)):\n",
    "    rekonstruisane400[i] = dig.dot(rekonstruisane[i][:,0])\n",
    "    print(rekonstruisane400[i])"
   ]
  },
  {
   "cell_type": "code",
   "execution_count": 45,
   "metadata": {},
   "outputs": [],
   "source": [
    "iviceKeks = np.array([[1, 2], [2, 3], [3, 4], [4, 1],\n",
    "                      [5, 6], [6, 7], [7, 8], [8, 5],\n",
    "                      [1, 5], [2, 6], [3, 7], [4, 8]])\n",
    "\n",
    "iviceCaj = np.array([[9, 10], [10, 11], [11, 12], [12,  9], \n",
    "                        [13, 14], [14, 15], [15, 16], [16, 13],\n",
    "                        [9, 13], [10, 14], [11, 15], [12, 16]])\n",
    "\n",
    "iviceModem = np.array([[17, 18], [18, 19], [19, 20], [20, 17], \n",
    "                        [21, 22], [22, 23], [23, 24], [24, 21],\n",
    "                        [17, 21], [18, 22], [19, 23], [20, 24]])"
   ]
  },
  {
   "cell_type": "code",
   "execution_count": 46,
   "metadata": {},
   "outputs": [
    {
     "data": {
      "application/javascript": [
       "/* Put everything inside the global mpl namespace */\n",
       "/* global mpl */\n",
       "window.mpl = {};\n",
       "\n",
       "mpl.get_websocket_type = function () {\n",
       "    if (typeof WebSocket !== 'undefined') {\n",
       "        return WebSocket;\n",
       "    } else if (typeof MozWebSocket !== 'undefined') {\n",
       "        return MozWebSocket;\n",
       "    } else {\n",
       "        alert(\n",
       "            'Your browser does not have WebSocket support. ' +\n",
       "                'Please try Chrome, Safari or Firefox ≥ 6. ' +\n",
       "                'Firefox 4 and 5 are also supported but you ' +\n",
       "                'have to enable WebSockets in about:config.'\n",
       "        );\n",
       "    }\n",
       "};\n",
       "\n",
       "mpl.figure = function (figure_id, websocket, ondownload, parent_element) {\n",
       "    this.id = figure_id;\n",
       "\n",
       "    this.ws = websocket;\n",
       "\n",
       "    this.supports_binary = this.ws.binaryType !== undefined;\n",
       "\n",
       "    if (!this.supports_binary) {\n",
       "        var warnings = document.getElementById('mpl-warnings');\n",
       "        if (warnings) {\n",
       "            warnings.style.display = 'block';\n",
       "            warnings.textContent =\n",
       "                'This browser does not support binary websocket messages. ' +\n",
       "                'Performance may be slow.';\n",
       "        }\n",
       "    }\n",
       "\n",
       "    this.imageObj = new Image();\n",
       "\n",
       "    this.context = undefined;\n",
       "    this.message = undefined;\n",
       "    this.canvas = undefined;\n",
       "    this.rubberband_canvas = undefined;\n",
       "    this.rubberband_context = undefined;\n",
       "    this.format_dropdown = undefined;\n",
       "\n",
       "    this.image_mode = 'full';\n",
       "\n",
       "    this.root = document.createElement('div');\n",
       "    this.root.setAttribute('style', 'display: inline-block');\n",
       "    this._root_extra_style(this.root);\n",
       "\n",
       "    parent_element.appendChild(this.root);\n",
       "\n",
       "    this._init_header(this);\n",
       "    this._init_canvas(this);\n",
       "    this._init_toolbar(this);\n",
       "\n",
       "    var fig = this;\n",
       "\n",
       "    this.waiting = false;\n",
       "\n",
       "    this.ws.onopen = function () {\n",
       "        fig.send_message('supports_binary', { value: fig.supports_binary });\n",
       "        fig.send_message('send_image_mode', {});\n",
       "        if (fig.ratio !== 1) {\n",
       "            fig.send_message('set_dpi_ratio', { dpi_ratio: fig.ratio });\n",
       "        }\n",
       "        fig.send_message('refresh', {});\n",
       "    };\n",
       "\n",
       "    this.imageObj.onload = function () {\n",
       "        if (fig.image_mode === 'full') {\n",
       "            // Full images could contain transparency (where diff images\n",
       "            // almost always do), so we need to clear the canvas so that\n",
       "            // there is no ghosting.\n",
       "            fig.context.clearRect(0, 0, fig.canvas.width, fig.canvas.height);\n",
       "        }\n",
       "        fig.context.drawImage(fig.imageObj, 0, 0);\n",
       "    };\n",
       "\n",
       "    this.imageObj.onunload = function () {\n",
       "        fig.ws.close();\n",
       "    };\n",
       "\n",
       "    this.ws.onmessage = this._make_on_message_function(this);\n",
       "\n",
       "    this.ondownload = ondownload;\n",
       "};\n",
       "\n",
       "mpl.figure.prototype._init_header = function () {\n",
       "    var titlebar = document.createElement('div');\n",
       "    titlebar.classList =\n",
       "        'ui-dialog-titlebar ui-widget-header ui-corner-all ui-helper-clearfix';\n",
       "    var titletext = document.createElement('div');\n",
       "    titletext.classList = 'ui-dialog-title';\n",
       "    titletext.setAttribute(\n",
       "        'style',\n",
       "        'width: 100%; text-align: center; padding: 3px;'\n",
       "    );\n",
       "    titlebar.appendChild(titletext);\n",
       "    this.root.appendChild(titlebar);\n",
       "    this.header = titletext;\n",
       "};\n",
       "\n",
       "mpl.figure.prototype._canvas_extra_style = function (_canvas_div) {};\n",
       "\n",
       "mpl.figure.prototype._root_extra_style = function (_canvas_div) {};\n",
       "\n",
       "mpl.figure.prototype._init_canvas = function () {\n",
       "    var fig = this;\n",
       "\n",
       "    var canvas_div = (this.canvas_div = document.createElement('div'));\n",
       "    canvas_div.setAttribute(\n",
       "        'style',\n",
       "        'border: 1px solid #ddd;' +\n",
       "            'box-sizing: content-box;' +\n",
       "            'clear: both;' +\n",
       "            'min-height: 1px;' +\n",
       "            'min-width: 1px;' +\n",
       "            'outline: 0;' +\n",
       "            'overflow: hidden;' +\n",
       "            'position: relative;' +\n",
       "            'resize: both;'\n",
       "    );\n",
       "\n",
       "    function on_keyboard_event_closure(name) {\n",
       "        return function (event) {\n",
       "            return fig.key_event(event, name);\n",
       "        };\n",
       "    }\n",
       "\n",
       "    canvas_div.addEventListener(\n",
       "        'keydown',\n",
       "        on_keyboard_event_closure('key_press')\n",
       "    );\n",
       "    canvas_div.addEventListener(\n",
       "        'keyup',\n",
       "        on_keyboard_event_closure('key_release')\n",
       "    );\n",
       "\n",
       "    this._canvas_extra_style(canvas_div);\n",
       "    this.root.appendChild(canvas_div);\n",
       "\n",
       "    var canvas = (this.canvas = document.createElement('canvas'));\n",
       "    canvas.classList.add('mpl-canvas');\n",
       "    canvas.setAttribute('style', 'box-sizing: content-box;');\n",
       "\n",
       "    this.context = canvas.getContext('2d');\n",
       "\n",
       "    var backingStore =\n",
       "        this.context.backingStorePixelRatio ||\n",
       "        this.context.webkitBackingStorePixelRatio ||\n",
       "        this.context.mozBackingStorePixelRatio ||\n",
       "        this.context.msBackingStorePixelRatio ||\n",
       "        this.context.oBackingStorePixelRatio ||\n",
       "        this.context.backingStorePixelRatio ||\n",
       "        1;\n",
       "\n",
       "    this.ratio = (window.devicePixelRatio || 1) / backingStore;\n",
       "    if (this.ratio !== 1) {\n",
       "        fig.send_message('set_dpi_ratio', { dpi_ratio: this.ratio });\n",
       "    }\n",
       "\n",
       "    var rubberband_canvas = (this.rubberband_canvas = document.createElement(\n",
       "        'canvas'\n",
       "    ));\n",
       "    rubberband_canvas.setAttribute(\n",
       "        'style',\n",
       "        'box-sizing: content-box; position: absolute; left: 0; top: 0; z-index: 1;'\n",
       "    );\n",
       "\n",
       "    // Apply a ponyfill if ResizeObserver is not implemented by browser.\n",
       "    if (this.ResizeObserver === undefined) {\n",
       "        if (window.ResizeObserver !== undefined) {\n",
       "            this.ResizeObserver = window.ResizeObserver;\n",
       "        } else {\n",
       "            var obs = _JSXTOOLS_RESIZE_OBSERVER({});\n",
       "            this.ResizeObserver = obs.ResizeObserver;\n",
       "        }\n",
       "    }\n",
       "\n",
       "    this.resizeObserverInstance = new this.ResizeObserver(function (entries) {\n",
       "        var nentries = entries.length;\n",
       "        for (var i = 0; i < nentries; i++) {\n",
       "            var entry = entries[i];\n",
       "            var width, height;\n",
       "            if (entry.contentBoxSize) {\n",
       "                if (entry.contentBoxSize instanceof Array) {\n",
       "                    // Chrome 84 implements new version of spec.\n",
       "                    width = entry.contentBoxSize[0].inlineSize;\n",
       "                    height = entry.contentBoxSize[0].blockSize;\n",
       "                } else {\n",
       "                    // Firefox implements old version of spec.\n",
       "                    width = entry.contentBoxSize.inlineSize;\n",
       "                    height = entry.contentBoxSize.blockSize;\n",
       "                }\n",
       "            } else {\n",
       "                // Chrome <84 implements even older version of spec.\n",
       "                width = entry.contentRect.width;\n",
       "                height = entry.contentRect.height;\n",
       "            }\n",
       "\n",
       "            // Keep the size of the canvas and rubber band canvas in sync with\n",
       "            // the canvas container.\n",
       "            if (entry.devicePixelContentBoxSize) {\n",
       "                // Chrome 84 implements new version of spec.\n",
       "                canvas.setAttribute(\n",
       "                    'width',\n",
       "                    entry.devicePixelContentBoxSize[0].inlineSize\n",
       "                );\n",
       "                canvas.setAttribute(\n",
       "                    'height',\n",
       "                    entry.devicePixelContentBoxSize[0].blockSize\n",
       "                );\n",
       "            } else {\n",
       "                canvas.setAttribute('width', width * fig.ratio);\n",
       "                canvas.setAttribute('height', height * fig.ratio);\n",
       "            }\n",
       "            canvas.setAttribute(\n",
       "                'style',\n",
       "                'width: ' + width + 'px; height: ' + height + 'px;'\n",
       "            );\n",
       "\n",
       "            rubberband_canvas.setAttribute('width', width);\n",
       "            rubberband_canvas.setAttribute('height', height);\n",
       "\n",
       "            // And update the size in Python. We ignore the initial 0/0 size\n",
       "            // that occurs as the element is placed into the DOM, which should\n",
       "            // otherwise not happen due to the minimum size styling.\n",
       "            if (width != 0 && height != 0) {\n",
       "                fig.request_resize(width, height);\n",
       "            }\n",
       "        }\n",
       "    });\n",
       "    this.resizeObserverInstance.observe(canvas_div);\n",
       "\n",
       "    function on_mouse_event_closure(name) {\n",
       "        return function (event) {\n",
       "            return fig.mouse_event(event, name);\n",
       "        };\n",
       "    }\n",
       "\n",
       "    rubberband_canvas.addEventListener(\n",
       "        'mousedown',\n",
       "        on_mouse_event_closure('button_press')\n",
       "    );\n",
       "    rubberband_canvas.addEventListener(\n",
       "        'mouseup',\n",
       "        on_mouse_event_closure('button_release')\n",
       "    );\n",
       "    // Throttle sequential mouse events to 1 every 20ms.\n",
       "    rubberband_canvas.addEventListener(\n",
       "        'mousemove',\n",
       "        on_mouse_event_closure('motion_notify')\n",
       "    );\n",
       "\n",
       "    rubberband_canvas.addEventListener(\n",
       "        'mouseenter',\n",
       "        on_mouse_event_closure('figure_enter')\n",
       "    );\n",
       "    rubberband_canvas.addEventListener(\n",
       "        'mouseleave',\n",
       "        on_mouse_event_closure('figure_leave')\n",
       "    );\n",
       "\n",
       "    canvas_div.addEventListener('wheel', function (event) {\n",
       "        if (event.deltaY < 0) {\n",
       "            event.step = 1;\n",
       "        } else {\n",
       "            event.step = -1;\n",
       "        }\n",
       "        on_mouse_event_closure('scroll')(event);\n",
       "    });\n",
       "\n",
       "    canvas_div.appendChild(canvas);\n",
       "    canvas_div.appendChild(rubberband_canvas);\n",
       "\n",
       "    this.rubberband_context = rubberband_canvas.getContext('2d');\n",
       "    this.rubberband_context.strokeStyle = '#000000';\n",
       "\n",
       "    this._resize_canvas = function (width, height, forward) {\n",
       "        if (forward) {\n",
       "            canvas_div.style.width = width + 'px';\n",
       "            canvas_div.style.height = height + 'px';\n",
       "        }\n",
       "    };\n",
       "\n",
       "    // Disable right mouse context menu.\n",
       "    this.rubberband_canvas.addEventListener('contextmenu', function (_e) {\n",
       "        event.preventDefault();\n",
       "        return false;\n",
       "    });\n",
       "\n",
       "    function set_focus() {\n",
       "        canvas.focus();\n",
       "        canvas_div.focus();\n",
       "    }\n",
       "\n",
       "    window.setTimeout(set_focus, 100);\n",
       "};\n",
       "\n",
       "mpl.figure.prototype._init_toolbar = function () {\n",
       "    var fig = this;\n",
       "\n",
       "    var toolbar = document.createElement('div');\n",
       "    toolbar.classList = 'mpl-toolbar';\n",
       "    this.root.appendChild(toolbar);\n",
       "\n",
       "    function on_click_closure(name) {\n",
       "        return function (_event) {\n",
       "            return fig.toolbar_button_onclick(name);\n",
       "        };\n",
       "    }\n",
       "\n",
       "    function on_mouseover_closure(tooltip) {\n",
       "        return function (event) {\n",
       "            if (!event.currentTarget.disabled) {\n",
       "                return fig.toolbar_button_onmouseover(tooltip);\n",
       "            }\n",
       "        };\n",
       "    }\n",
       "\n",
       "    fig.buttons = {};\n",
       "    var buttonGroup = document.createElement('div');\n",
       "    buttonGroup.classList = 'mpl-button-group';\n",
       "    for (var toolbar_ind in mpl.toolbar_items) {\n",
       "        var name = mpl.toolbar_items[toolbar_ind][0];\n",
       "        var tooltip = mpl.toolbar_items[toolbar_ind][1];\n",
       "        var image = mpl.toolbar_items[toolbar_ind][2];\n",
       "        var method_name = mpl.toolbar_items[toolbar_ind][3];\n",
       "\n",
       "        if (!name) {\n",
       "            /* Instead of a spacer, we start a new button group. */\n",
       "            if (buttonGroup.hasChildNodes()) {\n",
       "                toolbar.appendChild(buttonGroup);\n",
       "            }\n",
       "            buttonGroup = document.createElement('div');\n",
       "            buttonGroup.classList = 'mpl-button-group';\n",
       "            continue;\n",
       "        }\n",
       "\n",
       "        var button = (fig.buttons[name] = document.createElement('button'));\n",
       "        button.classList = 'mpl-widget';\n",
       "        button.setAttribute('role', 'button');\n",
       "        button.setAttribute('aria-disabled', 'false');\n",
       "        button.addEventListener('click', on_click_closure(method_name));\n",
       "        button.addEventListener('mouseover', on_mouseover_closure(tooltip));\n",
       "\n",
       "        var icon_img = document.createElement('img');\n",
       "        icon_img.src = '_images/' + image + '.png';\n",
       "        icon_img.srcset = '_images/' + image + '_large.png 2x';\n",
       "        icon_img.alt = tooltip;\n",
       "        button.appendChild(icon_img);\n",
       "\n",
       "        buttonGroup.appendChild(button);\n",
       "    }\n",
       "\n",
       "    if (buttonGroup.hasChildNodes()) {\n",
       "        toolbar.appendChild(buttonGroup);\n",
       "    }\n",
       "\n",
       "    var fmt_picker = document.createElement('select');\n",
       "    fmt_picker.classList = 'mpl-widget';\n",
       "    toolbar.appendChild(fmt_picker);\n",
       "    this.format_dropdown = fmt_picker;\n",
       "\n",
       "    for (var ind in mpl.extensions) {\n",
       "        var fmt = mpl.extensions[ind];\n",
       "        var option = document.createElement('option');\n",
       "        option.selected = fmt === mpl.default_extension;\n",
       "        option.innerHTML = fmt;\n",
       "        fmt_picker.appendChild(option);\n",
       "    }\n",
       "\n",
       "    var status_bar = document.createElement('span');\n",
       "    status_bar.classList = 'mpl-message';\n",
       "    toolbar.appendChild(status_bar);\n",
       "    this.message = status_bar;\n",
       "};\n",
       "\n",
       "mpl.figure.prototype.request_resize = function (x_pixels, y_pixels) {\n",
       "    // Request matplotlib to resize the figure. Matplotlib will then trigger a resize in the client,\n",
       "    // which will in turn request a refresh of the image.\n",
       "    this.send_message('resize', { width: x_pixels, height: y_pixels });\n",
       "};\n",
       "\n",
       "mpl.figure.prototype.send_message = function (type, properties) {\n",
       "    properties['type'] = type;\n",
       "    properties['figure_id'] = this.id;\n",
       "    this.ws.send(JSON.stringify(properties));\n",
       "};\n",
       "\n",
       "mpl.figure.prototype.send_draw_message = function () {\n",
       "    if (!this.waiting) {\n",
       "        this.waiting = true;\n",
       "        this.ws.send(JSON.stringify({ type: 'draw', figure_id: this.id }));\n",
       "    }\n",
       "};\n",
       "\n",
       "mpl.figure.prototype.handle_save = function (fig, _msg) {\n",
       "    var format_dropdown = fig.format_dropdown;\n",
       "    var format = format_dropdown.options[format_dropdown.selectedIndex].value;\n",
       "    fig.ondownload(fig, format);\n",
       "};\n",
       "\n",
       "mpl.figure.prototype.handle_resize = function (fig, msg) {\n",
       "    var size = msg['size'];\n",
       "    if (size[0] !== fig.canvas.width || size[1] !== fig.canvas.height) {\n",
       "        fig._resize_canvas(size[0], size[1], msg['forward']);\n",
       "        fig.send_message('refresh', {});\n",
       "    }\n",
       "};\n",
       "\n",
       "mpl.figure.prototype.handle_rubberband = function (fig, msg) {\n",
       "    var x0 = msg['x0'] / fig.ratio;\n",
       "    var y0 = (fig.canvas.height - msg['y0']) / fig.ratio;\n",
       "    var x1 = msg['x1'] / fig.ratio;\n",
       "    var y1 = (fig.canvas.height - msg['y1']) / fig.ratio;\n",
       "    x0 = Math.floor(x0) + 0.5;\n",
       "    y0 = Math.floor(y0) + 0.5;\n",
       "    x1 = Math.floor(x1) + 0.5;\n",
       "    y1 = Math.floor(y1) + 0.5;\n",
       "    var min_x = Math.min(x0, x1);\n",
       "    var min_y = Math.min(y0, y1);\n",
       "    var width = Math.abs(x1 - x0);\n",
       "    var height = Math.abs(y1 - y0);\n",
       "\n",
       "    fig.rubberband_context.clearRect(\n",
       "        0,\n",
       "        0,\n",
       "        fig.canvas.width / fig.ratio,\n",
       "        fig.canvas.height / fig.ratio\n",
       "    );\n",
       "\n",
       "    fig.rubberband_context.strokeRect(min_x, min_y, width, height);\n",
       "};\n",
       "\n",
       "mpl.figure.prototype.handle_figure_label = function (fig, msg) {\n",
       "    // Updates the figure title.\n",
       "    fig.header.textContent = msg['label'];\n",
       "};\n",
       "\n",
       "mpl.figure.prototype.handle_cursor = function (fig, msg) {\n",
       "    var cursor = msg['cursor'];\n",
       "    switch (cursor) {\n",
       "        case 0:\n",
       "            cursor = 'pointer';\n",
       "            break;\n",
       "        case 1:\n",
       "            cursor = 'default';\n",
       "            break;\n",
       "        case 2:\n",
       "            cursor = 'crosshair';\n",
       "            break;\n",
       "        case 3:\n",
       "            cursor = 'move';\n",
       "            break;\n",
       "    }\n",
       "    fig.rubberband_canvas.style.cursor = cursor;\n",
       "};\n",
       "\n",
       "mpl.figure.prototype.handle_message = function (fig, msg) {\n",
       "    fig.message.textContent = msg['message'];\n",
       "};\n",
       "\n",
       "mpl.figure.prototype.handle_draw = function (fig, _msg) {\n",
       "    // Request the server to send over a new figure.\n",
       "    fig.send_draw_message();\n",
       "};\n",
       "\n",
       "mpl.figure.prototype.handle_image_mode = function (fig, msg) {\n",
       "    fig.image_mode = msg['mode'];\n",
       "};\n",
       "\n",
       "mpl.figure.prototype.handle_history_buttons = function (fig, msg) {\n",
       "    for (var key in msg) {\n",
       "        if (!(key in fig.buttons)) {\n",
       "            continue;\n",
       "        }\n",
       "        fig.buttons[key].disabled = !msg[key];\n",
       "        fig.buttons[key].setAttribute('aria-disabled', !msg[key]);\n",
       "    }\n",
       "};\n",
       "\n",
       "mpl.figure.prototype.handle_navigate_mode = function (fig, msg) {\n",
       "    if (msg['mode'] === 'PAN') {\n",
       "        fig.buttons['Pan'].classList.add('active');\n",
       "        fig.buttons['Zoom'].classList.remove('active');\n",
       "    } else if (msg['mode'] === 'ZOOM') {\n",
       "        fig.buttons['Pan'].classList.remove('active');\n",
       "        fig.buttons['Zoom'].classList.add('active');\n",
       "    } else {\n",
       "        fig.buttons['Pan'].classList.remove('active');\n",
       "        fig.buttons['Zoom'].classList.remove('active');\n",
       "    }\n",
       "};\n",
       "\n",
       "mpl.figure.prototype.updated_canvas_event = function () {\n",
       "    // Called whenever the canvas gets updated.\n",
       "    this.send_message('ack', {});\n",
       "};\n",
       "\n",
       "// A function to construct a web socket function for onmessage handling.\n",
       "// Called in the figure constructor.\n",
       "mpl.figure.prototype._make_on_message_function = function (fig) {\n",
       "    return function socket_on_message(evt) {\n",
       "        if (evt.data instanceof Blob) {\n",
       "            /* FIXME: We get \"Resource interpreted as Image but\n",
       "             * transferred with MIME type text/plain:\" errors on\n",
       "             * Chrome.  But how to set the MIME type?  It doesn't seem\n",
       "             * to be part of the websocket stream */\n",
       "            evt.data.type = 'image/png';\n",
       "\n",
       "            /* Free the memory for the previous frames */\n",
       "            if (fig.imageObj.src) {\n",
       "                (window.URL || window.webkitURL).revokeObjectURL(\n",
       "                    fig.imageObj.src\n",
       "                );\n",
       "            }\n",
       "\n",
       "            fig.imageObj.src = (window.URL || window.webkitURL).createObjectURL(\n",
       "                evt.data\n",
       "            );\n",
       "            fig.updated_canvas_event();\n",
       "            fig.waiting = false;\n",
       "            return;\n",
       "        } else if (\n",
       "            typeof evt.data === 'string' &&\n",
       "            evt.data.slice(0, 21) === 'data:image/png;base64'\n",
       "        ) {\n",
       "            fig.imageObj.src = evt.data;\n",
       "            fig.updated_canvas_event();\n",
       "            fig.waiting = false;\n",
       "            return;\n",
       "        }\n",
       "\n",
       "        var msg = JSON.parse(evt.data);\n",
       "        var msg_type = msg['type'];\n",
       "\n",
       "        // Call the  \"handle_{type}\" callback, which takes\n",
       "        // the figure and JSON message as its only arguments.\n",
       "        try {\n",
       "            var callback = fig['handle_' + msg_type];\n",
       "        } catch (e) {\n",
       "            console.log(\n",
       "                \"No handler for the '\" + msg_type + \"' message type: \",\n",
       "                msg\n",
       "            );\n",
       "            return;\n",
       "        }\n",
       "\n",
       "        if (callback) {\n",
       "            try {\n",
       "                // console.log(\"Handling '\" + msg_type + \"' message: \", msg);\n",
       "                callback(fig, msg);\n",
       "            } catch (e) {\n",
       "                console.log(\n",
       "                    \"Exception inside the 'handler_\" + msg_type + \"' callback:\",\n",
       "                    e,\n",
       "                    e.stack,\n",
       "                    msg\n",
       "                );\n",
       "            }\n",
       "        }\n",
       "    };\n",
       "};\n",
       "\n",
       "// from http://stackoverflow.com/questions/1114465/getting-mouse-location-in-canvas\n",
       "mpl.findpos = function (e) {\n",
       "    //this section is from http://www.quirksmode.org/js/events_properties.html\n",
       "    var targ;\n",
       "    if (!e) {\n",
       "        e = window.event;\n",
       "    }\n",
       "    if (e.target) {\n",
       "        targ = e.target;\n",
       "    } else if (e.srcElement) {\n",
       "        targ = e.srcElement;\n",
       "    }\n",
       "    if (targ.nodeType === 3) {\n",
       "        // defeat Safari bug\n",
       "        targ = targ.parentNode;\n",
       "    }\n",
       "\n",
       "    // pageX,Y are the mouse positions relative to the document\n",
       "    var boundingRect = targ.getBoundingClientRect();\n",
       "    var x = e.pageX - (boundingRect.left + document.body.scrollLeft);\n",
       "    var y = e.pageY - (boundingRect.top + document.body.scrollTop);\n",
       "\n",
       "    return { x: x, y: y };\n",
       "};\n",
       "\n",
       "/*\n",
       " * return a copy of an object with only non-object keys\n",
       " * we need this to avoid circular references\n",
       " * http://stackoverflow.com/a/24161582/3208463\n",
       " */\n",
       "function simpleKeys(original) {\n",
       "    return Object.keys(original).reduce(function (obj, key) {\n",
       "        if (typeof original[key] !== 'object') {\n",
       "            obj[key] = original[key];\n",
       "        }\n",
       "        return obj;\n",
       "    }, {});\n",
       "}\n",
       "\n",
       "mpl.figure.prototype.mouse_event = function (event, name) {\n",
       "    var canvas_pos = mpl.findpos(event);\n",
       "\n",
       "    if (name === 'button_press') {\n",
       "        this.canvas.focus();\n",
       "        this.canvas_div.focus();\n",
       "    }\n",
       "\n",
       "    var x = canvas_pos.x * this.ratio;\n",
       "    var y = canvas_pos.y * this.ratio;\n",
       "\n",
       "    this.send_message(name, {\n",
       "        x: x,\n",
       "        y: y,\n",
       "        button: event.button,\n",
       "        step: event.step,\n",
       "        guiEvent: simpleKeys(event),\n",
       "    });\n",
       "\n",
       "    /* This prevents the web browser from automatically changing to\n",
       "     * the text insertion cursor when the button is pressed.  We want\n",
       "     * to control all of the cursor setting manually through the\n",
       "     * 'cursor' event from matplotlib */\n",
       "    event.preventDefault();\n",
       "    return false;\n",
       "};\n",
       "\n",
       "mpl.figure.prototype._key_event_extra = function (_event, _name) {\n",
       "    // Handle any extra behaviour associated with a key event\n",
       "};\n",
       "\n",
       "mpl.figure.prototype.key_event = function (event, name) {\n",
       "    // Prevent repeat events\n",
       "    if (name === 'key_press') {\n",
       "        if (event.which === this._key) {\n",
       "            return;\n",
       "        } else {\n",
       "            this._key = event.which;\n",
       "        }\n",
       "    }\n",
       "    if (name === 'key_release') {\n",
       "        this._key = null;\n",
       "    }\n",
       "\n",
       "    var value = '';\n",
       "    if (event.ctrlKey && event.which !== 17) {\n",
       "        value += 'ctrl+';\n",
       "    }\n",
       "    if (event.altKey && event.which !== 18) {\n",
       "        value += 'alt+';\n",
       "    }\n",
       "    if (event.shiftKey && event.which !== 16) {\n",
       "        value += 'shift+';\n",
       "    }\n",
       "\n",
       "    value += 'k';\n",
       "    value += event.which.toString();\n",
       "\n",
       "    this._key_event_extra(event, name);\n",
       "\n",
       "    this.send_message(name, { key: value, guiEvent: simpleKeys(event) });\n",
       "    return false;\n",
       "};\n",
       "\n",
       "mpl.figure.prototype.toolbar_button_onclick = function (name) {\n",
       "    if (name === 'download') {\n",
       "        this.handle_save(this, null);\n",
       "    } else {\n",
       "        this.send_message('toolbar_button', { name: name });\n",
       "    }\n",
       "};\n",
       "\n",
       "mpl.figure.prototype.toolbar_button_onmouseover = function (tooltip) {\n",
       "    this.message.textContent = tooltip;\n",
       "};\n",
       "\n",
       "///////////////// REMAINING CONTENT GENERATED BY embed_js.py /////////////////\n",
       "// prettier-ignore\n",
       "var _JSXTOOLS_RESIZE_OBSERVER=function(A){var t,i=new WeakMap,n=new WeakMap,a=new WeakMap,r=new WeakMap,o=new Set;function s(e){if(!(this instanceof s))throw new TypeError(\"Constructor requires 'new' operator\");i.set(this,e)}function h(){throw new TypeError(\"Function is not a constructor\")}function c(e,t,i,n){e=0 in arguments?Number(arguments[0]):0,t=1 in arguments?Number(arguments[1]):0,i=2 in arguments?Number(arguments[2]):0,n=3 in arguments?Number(arguments[3]):0,this.right=(this.x=this.left=e)+(this.width=i),this.bottom=(this.y=this.top=t)+(this.height=n),Object.freeze(this)}function d(){t=requestAnimationFrame(d);var s=new WeakMap,p=new Set;o.forEach((function(t){r.get(t).forEach((function(i){var r=t instanceof window.SVGElement,o=a.get(t),d=r?0:parseFloat(o.paddingTop),f=r?0:parseFloat(o.paddingRight),l=r?0:parseFloat(o.paddingBottom),u=r?0:parseFloat(o.paddingLeft),g=r?0:parseFloat(o.borderTopWidth),m=r?0:parseFloat(o.borderRightWidth),w=r?0:parseFloat(o.borderBottomWidth),b=u+f,F=d+l,v=(r?0:parseFloat(o.borderLeftWidth))+m,W=g+w,y=r?0:t.offsetHeight-W-t.clientHeight,E=r?0:t.offsetWidth-v-t.clientWidth,R=b+v,z=F+W,M=r?t.width:parseFloat(o.width)-R-E,O=r?t.height:parseFloat(o.height)-z-y;if(n.has(t)){var k=n.get(t);if(k[0]===M&&k[1]===O)return}n.set(t,[M,O]);var S=Object.create(h.prototype);S.target=t,S.contentRect=new c(u,d,M,O),s.has(i)||(s.set(i,[]),p.add(i)),s.get(i).push(S)}))})),p.forEach((function(e){i.get(e).call(e,s.get(e),e)}))}return s.prototype.observe=function(i){if(i instanceof window.Element){r.has(i)||(r.set(i,new Set),o.add(i),a.set(i,window.getComputedStyle(i)));var n=r.get(i);n.has(this)||n.add(this),cancelAnimationFrame(t),t=requestAnimationFrame(d)}},s.prototype.unobserve=function(i){if(i instanceof window.Element&&r.has(i)){var n=r.get(i);n.has(this)&&(n.delete(this),n.size||(r.delete(i),o.delete(i))),n.size||r.delete(i),o.size||cancelAnimationFrame(t)}},A.DOMRectReadOnly=c,A.ResizeObserver=s,A.ResizeObserverEntry=h,A}; // eslint-disable-line\n",
       "mpl.toolbar_items = [[\"Home\", \"Reset original view\", \"fa fa-home icon-home\", \"home\"], [\"Back\", \"Back to previous view\", \"fa fa-arrow-left icon-arrow-left\", \"back\"], [\"Forward\", \"Forward to next view\", \"fa fa-arrow-right icon-arrow-right\", \"forward\"], [\"\", \"\", \"\", \"\"], [\"Pan\", \"Left button pans, Right button zooms\\nx/y fixes axis, CTRL fixes aspect\", \"fa fa-arrows icon-move\", \"pan\"], [\"Zoom\", \"Zoom to rectangle\\nx/y fixes axis, CTRL fixes aspect\", \"fa fa-square-o icon-check-empty\", \"zoom\"], [\"\", \"\", \"\", \"\"], [\"Download\", \"Download plot\", \"fa fa-floppy-o icon-save\", \"download\"]];\n",
       "\n",
       "mpl.extensions = [\"eps\", \"jpeg\", \"pdf\", \"png\", \"ps\", \"raw\", \"svg\", \"tif\"];\n",
       "\n",
       "mpl.default_extension = \"png\";/* global mpl */\n",
       "\n",
       "var comm_websocket_adapter = function (comm) {\n",
       "    // Create a \"websocket\"-like object which calls the given IPython comm\n",
       "    // object with the appropriate methods. Currently this is a non binary\n",
       "    // socket, so there is still some room for performance tuning.\n",
       "    var ws = {};\n",
       "\n",
       "    ws.close = function () {\n",
       "        comm.close();\n",
       "    };\n",
       "    ws.send = function (m) {\n",
       "        //console.log('sending', m);\n",
       "        comm.send(m);\n",
       "    };\n",
       "    // Register the callback with on_msg.\n",
       "    comm.on_msg(function (msg) {\n",
       "        //console.log('receiving', msg['content']['data'], msg);\n",
       "        // Pass the mpl event to the overridden (by mpl) onmessage function.\n",
       "        ws.onmessage(msg['content']['data']);\n",
       "    });\n",
       "    return ws;\n",
       "};\n",
       "\n",
       "mpl.mpl_figure_comm = function (comm, msg) {\n",
       "    // This is the function which gets called when the mpl process\n",
       "    // starts-up an IPython Comm through the \"matplotlib\" channel.\n",
       "\n",
       "    var id = msg.content.data.id;\n",
       "    // Get hold of the div created by the display call when the Comm\n",
       "    // socket was opened in Python.\n",
       "    var element = document.getElementById(id);\n",
       "    var ws_proxy = comm_websocket_adapter(comm);\n",
       "\n",
       "    function ondownload(figure, _format) {\n",
       "        window.open(figure.canvas.toDataURL());\n",
       "    }\n",
       "\n",
       "    var fig = new mpl.figure(id, ws_proxy, ondownload, element);\n",
       "\n",
       "    // Call onopen now - mpl needs it, as it is assuming we've passed it a real\n",
       "    // web socket which is closed, not our websocket->open comm proxy.\n",
       "    ws_proxy.onopen();\n",
       "\n",
       "    fig.parent_element = element;\n",
       "    fig.cell_info = mpl.find_output_cell(\"<div id='\" + id + \"'></div>\");\n",
       "    if (!fig.cell_info) {\n",
       "        console.error('Failed to find cell for figure', id, fig);\n",
       "        return;\n",
       "    }\n",
       "    fig.cell_info[0].output_area.element.on(\n",
       "        'cleared',\n",
       "        { fig: fig },\n",
       "        fig._remove_fig_handler\n",
       "    );\n",
       "};\n",
       "\n",
       "mpl.figure.prototype.handle_close = function (fig, msg) {\n",
       "    var width = fig.canvas.width / fig.ratio;\n",
       "    fig.cell_info[0].output_area.element.off(\n",
       "        'cleared',\n",
       "        fig._remove_fig_handler\n",
       "    );\n",
       "    fig.resizeObserverInstance.unobserve(fig.canvas_div);\n",
       "\n",
       "    // Update the output cell to use the data from the current canvas.\n",
       "    fig.push_to_output();\n",
       "    var dataURL = fig.canvas.toDataURL();\n",
       "    // Re-enable the keyboard manager in IPython - without this line, in FF,\n",
       "    // the notebook keyboard shortcuts fail.\n",
       "    IPython.keyboard_manager.enable();\n",
       "    fig.parent_element.innerHTML =\n",
       "        '<img src=\"' + dataURL + '\" width=\"' + width + '\">';\n",
       "    fig.close_ws(fig, msg);\n",
       "};\n",
       "\n",
       "mpl.figure.prototype.close_ws = function (fig, msg) {\n",
       "    fig.send_message('closing', msg);\n",
       "    // fig.ws.close()\n",
       "};\n",
       "\n",
       "mpl.figure.prototype.push_to_output = function (_remove_interactive) {\n",
       "    // Turn the data on the canvas into data in the output cell.\n",
       "    var width = this.canvas.width / this.ratio;\n",
       "    var dataURL = this.canvas.toDataURL();\n",
       "    this.cell_info[1]['text/html'] =\n",
       "        '<img src=\"' + dataURL + '\" width=\"' + width + '\">';\n",
       "};\n",
       "\n",
       "mpl.figure.prototype.updated_canvas_event = function () {\n",
       "    // Tell IPython that the notebook contents must change.\n",
       "    IPython.notebook.set_dirty(true);\n",
       "    this.send_message('ack', {});\n",
       "    var fig = this;\n",
       "    // Wait a second, then push the new image to the DOM so\n",
       "    // that it is saved nicely (might be nice to debounce this).\n",
       "    setTimeout(function () {\n",
       "        fig.push_to_output();\n",
       "    }, 1000);\n",
       "};\n",
       "\n",
       "mpl.figure.prototype._init_toolbar = function () {\n",
       "    var fig = this;\n",
       "\n",
       "    var toolbar = document.createElement('div');\n",
       "    toolbar.classList = 'btn-toolbar';\n",
       "    this.root.appendChild(toolbar);\n",
       "\n",
       "    function on_click_closure(name) {\n",
       "        return function (_event) {\n",
       "            return fig.toolbar_button_onclick(name);\n",
       "        };\n",
       "    }\n",
       "\n",
       "    function on_mouseover_closure(tooltip) {\n",
       "        return function (event) {\n",
       "            if (!event.currentTarget.disabled) {\n",
       "                return fig.toolbar_button_onmouseover(tooltip);\n",
       "            }\n",
       "        };\n",
       "    }\n",
       "\n",
       "    fig.buttons = {};\n",
       "    var buttonGroup = document.createElement('div');\n",
       "    buttonGroup.classList = 'btn-group';\n",
       "    var button;\n",
       "    for (var toolbar_ind in mpl.toolbar_items) {\n",
       "        var name = mpl.toolbar_items[toolbar_ind][0];\n",
       "        var tooltip = mpl.toolbar_items[toolbar_ind][1];\n",
       "        var image = mpl.toolbar_items[toolbar_ind][2];\n",
       "        var method_name = mpl.toolbar_items[toolbar_ind][3];\n",
       "\n",
       "        if (!name) {\n",
       "            /* Instead of a spacer, we start a new button group. */\n",
       "            if (buttonGroup.hasChildNodes()) {\n",
       "                toolbar.appendChild(buttonGroup);\n",
       "            }\n",
       "            buttonGroup = document.createElement('div');\n",
       "            buttonGroup.classList = 'btn-group';\n",
       "            continue;\n",
       "        }\n",
       "\n",
       "        button = fig.buttons[name] = document.createElement('button');\n",
       "        button.classList = 'btn btn-default';\n",
       "        button.href = '#';\n",
       "        button.title = name;\n",
       "        button.innerHTML = '<i class=\"fa ' + image + ' fa-lg\"></i>';\n",
       "        button.addEventListener('click', on_click_closure(method_name));\n",
       "        button.addEventListener('mouseover', on_mouseover_closure(tooltip));\n",
       "        buttonGroup.appendChild(button);\n",
       "    }\n",
       "\n",
       "    if (buttonGroup.hasChildNodes()) {\n",
       "        toolbar.appendChild(buttonGroup);\n",
       "    }\n",
       "\n",
       "    // Add the status bar.\n",
       "    var status_bar = document.createElement('span');\n",
       "    status_bar.classList = 'mpl-message pull-right';\n",
       "    toolbar.appendChild(status_bar);\n",
       "    this.message = status_bar;\n",
       "\n",
       "    // Add the close button to the window.\n",
       "    var buttongrp = document.createElement('div');\n",
       "    buttongrp.classList = 'btn-group inline pull-right';\n",
       "    button = document.createElement('button');\n",
       "    button.classList = 'btn btn-mini btn-primary';\n",
       "    button.href = '#';\n",
       "    button.title = 'Stop Interaction';\n",
       "    button.innerHTML = '<i class=\"fa fa-power-off icon-remove icon-large\"></i>';\n",
       "    button.addEventListener('click', function (_evt) {\n",
       "        fig.handle_close(fig, {});\n",
       "    });\n",
       "    button.addEventListener(\n",
       "        'mouseover',\n",
       "        on_mouseover_closure('Stop Interaction')\n",
       "    );\n",
       "    buttongrp.appendChild(button);\n",
       "    var titlebar = this.root.querySelector('.ui-dialog-titlebar');\n",
       "    titlebar.insertBefore(buttongrp, titlebar.firstChild);\n",
       "};\n",
       "\n",
       "mpl.figure.prototype._remove_fig_handler = function (event) {\n",
       "    var fig = event.data.fig;\n",
       "    if (event.target !== this) {\n",
       "        // Ignore bubbled events from children.\n",
       "        return;\n",
       "    }\n",
       "    fig.close_ws(fig, {});\n",
       "};\n",
       "\n",
       "mpl.figure.prototype._root_extra_style = function (el) {\n",
       "    el.style.boxSizing = 'content-box'; // override notebook setting of border-box.\n",
       "};\n",
       "\n",
       "mpl.figure.prototype._canvas_extra_style = function (el) {\n",
       "    // this is important to make the div 'focusable\n",
       "    el.setAttribute('tabindex', 0);\n",
       "    // reach out to IPython and tell the keyboard manager to turn it's self\n",
       "    // off when our div gets focus\n",
       "\n",
       "    // location in version 3\n",
       "    if (IPython.notebook.keyboard_manager) {\n",
       "        IPython.notebook.keyboard_manager.register_events(el);\n",
       "    } else {\n",
       "        // location in version 2\n",
       "        IPython.keyboard_manager.register_events(el);\n",
       "    }\n",
       "};\n",
       "\n",
       "mpl.figure.prototype._key_event_extra = function (event, _name) {\n",
       "    var manager = IPython.notebook.keyboard_manager;\n",
       "    if (!manager) {\n",
       "        manager = IPython.keyboard_manager;\n",
       "    }\n",
       "\n",
       "    // Check for shift+enter\n",
       "    if (event.shiftKey && event.which === 13) {\n",
       "        this.canvas_div.blur();\n",
       "        // select the cell after this one\n",
       "        var index = IPython.notebook.find_cell_index(this.cell_info[0]);\n",
       "        IPython.notebook.select(index + 1);\n",
       "    }\n",
       "};\n",
       "\n",
       "mpl.figure.prototype.handle_save = function (fig, _msg) {\n",
       "    fig.ondownload(fig, null);\n",
       "};\n",
       "\n",
       "mpl.find_output_cell = function (html_output) {\n",
       "    // Return the cell and output element which can be found *uniquely* in the notebook.\n",
       "    // Note - this is a bit hacky, but it is done because the \"notebook_saving.Notebook\"\n",
       "    // IPython event is triggered only after the cells have been serialised, which for\n",
       "    // our purposes (turning an active figure into a static one), is too late.\n",
       "    var cells = IPython.notebook.get_cells();\n",
       "    var ncells = cells.length;\n",
       "    for (var i = 0; i < ncells; i++) {\n",
       "        var cell = cells[i];\n",
       "        if (cell.cell_type === 'code') {\n",
       "            for (var j = 0; j < cell.output_area.outputs.length; j++) {\n",
       "                var data = cell.output_area.outputs[j];\n",
       "                if (data.data) {\n",
       "                    // IPython >= 3 moved mimebundle to data attribute of output\n",
       "                    data = data.data;\n",
       "                }\n",
       "                if (data['text/html'] === html_output) {\n",
       "                    return [cell, data, j];\n",
       "                }\n",
       "            }\n",
       "        }\n",
       "    }\n",
       "};\n",
       "\n",
       "// Register the function which deals with the matplotlib target/channel.\n",
       "// The kernel may be null if the page has been refreshed.\n",
       "if (IPython.notebook.kernel !== null) {\n",
       "    IPython.notebook.kernel.comm_manager.register_target(\n",
       "        'matplotlib',\n",
       "        mpl.mpl_figure_comm\n",
       "    );\n",
       "}\n"
      ],
      "text/plain": [
       "<IPython.core.display.Javascript object>"
      ]
     },
     "metadata": {},
     "output_type": "display_data"
    },
    {
     "data": {
      "text/html": [
       "<img src=\"data:image/png;base64,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\" width=\"639.999990463257\">"
      ],
      "text/plain": [
       "<IPython.core.display.HTML object>"
      ]
     },
     "metadata": {},
     "output_type": "display_data"
    }
   ],
   "source": [
    "fig = plt.figure()\n",
    "ax = plt.axes(projection='3d')\n",
    "\n",
    "for ivica in iviceModem:\n",
    "    ax.plot3D([rekonstruisane400[ivica[0] - 1][0], rekonstruisane400[ivica[1] - 1][0]], [rekonstruisane400[ivica[0] - 1][1], rekonstruisane400[ivica[1] - 1][1]], [rekonstruisane400[ivica[0] - 1][2], rekonstruisane400[ivica[1] - 1][2]], 'red')\n",
    "\n",
    "for ivica in iviceCaj:\n",
    "    ax.plot3D([rekonstruisane400[ivica[0] - 1][0], rekonstruisane400[ivica[1] - 1][0]], [rekonstruisane400[ivica[0] - 1][1], rekonstruisane400[ivica[1] - 1][1]], [rekonstruisane400[ivica[0] - 1][2], rekonstruisane400[ivica[1] - 1][2]], 'blue')\n",
    "\n",
    "for ivica in iviceKeks:\n",
    "    ax.plot3D([rekonstruisane400[ivica[0] - 1][0], rekonstruisane400[ivica[1] - 1][0]], [rekonstruisane400[ivica[0] - 1][1], rekonstruisane400[ivica[1] - 1][1]], [rekonstruisane400[ivica[0] - 1][2], rekonstruisane400[ivica[1] - 1][2]], 'green')"
   ]
  },
  {
   "cell_type": "code",
   "execution_count": null,
   "metadata": {},
   "outputs": [],
   "source": []
  }
 ],
 "metadata": {
  "kernelspec": {
   "display_name": "Python 3",
   "language": "python",
   "name": "python3"
  },
  "language_info": {
   "codemirror_mode": {
    "name": "ipython",
    "version": 3
   },
   "file_extension": ".py",
   "mimetype": "text/x-python",
   "name": "python",
   "nbconvert_exporter": "python",
   "pygments_lexer": "ipython3",
   "version": "3.6.9"
  }
 },
 "nbformat": 4,
 "nbformat_minor": 4
}
