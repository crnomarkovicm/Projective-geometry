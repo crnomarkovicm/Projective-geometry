{
 "cells": [
  {
   "cell_type": "markdown",
   "metadata": {},
   "source": [
    "# Domaci - matrica kamere\n",
    "\n",
    "### 1. Funkcija ParametriKamere(T) koja za datu 3x4 matricu kamere T odredjuje parametre kamere: K,A,C"
   ]
  },
  {
   "cell_type": "code",
   "execution_count": 298,
   "metadata": {},
   "outputs": [],
   "source": [
    "import numpy as np\n",
    "from numpy import linalg as la\n",
    "np.set_printoptions(suppress = True)"
   ]
  },
  {
   "cell_type": "code",
   "execution_count": 302,
   "metadata": {},
   "outputs": [],
   "source": [
    "def ParametriKamere(T):\n",
    "    #C(c1, c2, c3, c4) trazimo iz jednakosti TC = 0\n",
    "    \n",
    "    #racunamo determinante minora\n",
    "    c1 = la.det([[T[0][1], T[0][2], T[0][3]],\n",
    "                 [T[1][1], T[1][2], T[1][3]],\n",
    "                 [T[2][1], T[2][2], T[2][3]]])\n",
    "    \n",
    "    c2 = -la.det([[T[0][0], T[0][2], T[0][3]],\n",
    "                  [T[1][0], T[1][2], T[1][3]],\n",
    "                  [T[2][0], T[2][2], T[2][3]]])\n",
    "    \n",
    "    c3 = la.det([[T[0][0], T[0][1], T[0][3]],\n",
    "                 [T[1][0], T[1][1], T[1][3]],\n",
    "                 [T[2][0], T[2][1], T[2][3]]])\n",
    "    \n",
    "    c4 = -la.det([[T[0][0], T[0][1], T[0][2]],\n",
    "                  [T[1][0], T[1][1], T[1][2]],\n",
    "                  [T[2][0], T[2][1], T[2][2]]])\n",
    "\n",
    "    #normiramo po c4\n",
    "    c1 = np.round(c1/c4)\n",
    "    c2 = np.round(c2/c4)\n",
    "    c3 = np.round(c3/c4)\n",
    "    c4 = 1.0\n",
    "    \n",
    "    T0 = np.array(T)\n",
    "    T0 = T0[:, :3]\n",
    "    \n",
    "    #zelimo da vazi T0>0 i det(T0)>0\n",
    "    if la.det(T0) < 0:\n",
    "        T0 = np.array(-T)\n",
    "        T0 = T0[:, :3]\n",
    "    \n",
    "    #radimo QR dekompoziciju matrice. Matrica K ce biti R-1 a A ce biti Q-1\n",
    "    [Q, R] = la.qr(la.inv(T0))\n",
    "    \n",
    "    #proveravamo da li je neki od elemenata na dijaognali matrice R negativan\n",
    "    #ukoliko jeste, mnozimo sa -1 odgovarajucu kolonu matrice Q i vrstu matrice R\n",
    "    if R[0, 0] < 0:\n",
    "        R[0, :] = -R[0, :]\n",
    "        Q[:, 0] = -Q[:, 0]\n",
    "        \n",
    "    if R[1, 1] < 0:\n",
    "        R[1, :] = -R[1, :]\n",
    "        Q[:, 1] = -Q[:, 1]\n",
    " \n",
    "    if R[2, 2] < 0:\n",
    "        R[2, :] = -R[2, :]\n",
    "        Q[:, 2] = -Q[:, 2]\n",
    "    \n",
    "    \n",
    "    K = la.inv(R)\n",
    "    K = K/K[2][2]\n",
    "    A = la.inv(Q)\n",
    "    \n",
    "    print(\"\\nMatrica K:\\n\", K)\n",
    "    print(\"\\nMatrica A:\\n\", A)\n",
    "    C = np.array([c1, c2, c3])\n",
    "    print(\"\\nC:\\n\", C)"
   ]
  },
  {
   "cell_type": "code",
   "execution_count": 303,
   "metadata": {},
   "outputs": [
    {
     "name": "stdout",
     "output_type": "stream",
     "text": [
      "\n",
      "Matrica K:\n",
      " [[ 5.  3. 23.]\n",
      " [ 0.  5.  1.]\n",
      " [ 0.  0.  1.]]\n",
      "\n",
      "Matrica A:\n",
      " [[ 1.  0.  0.]\n",
      " [ 0.  0.  1.]\n",
      " [-0. -1. -0.]]\n",
      "\n",
      "C:\n",
      " [10.  1. -4.]\n"
     ]
    }
   ],
   "source": [
    "#Provera za test primer sa sajta\n",
    "n = 11\n",
    "ParametriKamere([[5,-1-2*n, 3, 18-3*n],\n",
    "                 [0,-1,5,21],\n",
    "                 [0,-1,0,1]\n",
    "                ])"
   ]
  },
  {
   "cell_type": "code",
   "execution_count": 304,
   "metadata": {},
   "outputs": [
    {
     "name": "stdout",
     "output_type": "stream",
     "text": [
      "\n",
      "Matrica K:\n",
      " [[5. 3. 3.]\n",
      " [0. 5. 1.]\n",
      " [0. 0. 1.]]\n",
      "\n",
      "Matrica A:\n",
      " [[ 1.  0.  0.]\n",
      " [ 0.  0.  1.]\n",
      " [-0. -1. -0.]]\n",
      "\n",
      "C:\n",
      " [-0.  1. -4.]\n"
     ]
    }
   ],
   "source": [
    "#Provera za moj broj indeksa (21/2017, n = 1)\n",
    "n = 1\n",
    "ParametriKamere([[5,-1-2*n, 3, 18-3*n],\n",
    "                 [0,-1,5,21],\n",
    "                 [0,-1,0,1]\n",
    "                ])"
   ]
  },
  {
   "cell_type": "code",
   "execution_count": 294,
   "metadata": {},
   "outputs": [],
   "source": [
    "#funkcija kojom na osnovu svakog para originala i odgovarajuce slike odredjuemo dve jednacine\n",
    "def cameraEquations(o, s):\n",
    "    m = np.matrix([[0, 0, 0,0, -s[2]*o[0], -s[2]*o[1], -s[2]*o[2],  -s[2]*o[3], s[1]*o[0], s[1]*o[1], s[1]*o[2],s[1]*o[3]],\n",
    "                   [s[2]*o[0], s[2]*o[1], s[2]*o[2], s[2]*o[3], 0, 0, 0,0, -s[0]*o[0], -s[0]*o[1], -s[0]*o[2], -s[0]*o[3]]])\n",
    "    return m"
   ]
  },
  {
   "cell_type": "code",
   "execution_count": 295,
   "metadata": {},
   "outputs": [],
   "source": [
    "def CameraDLP(originali, projekcije):\n",
    "    matrica = []\n",
    "    #na osnovu svih 6 parova pravimo matricu 12x12\n",
    "    for i in range(6):\n",
    "        if i > 0:\n",
    "            m = cameraEquations(originali[i], projekcije[i])\n",
    "            matrica = np.concatenate((matrica, m), axis=0)\n",
    "        else:\n",
    "            matrica = cameraEquations(originali[i], projekcije[i])\n",
    "    #radimo SVD dekompoziciju matrice\n",
    "    U, D, Vt = la.svd(matrica)\n",
    "    \n",
    "    #matrica P ce biti poslednja kolona matrice V sto je ustvari poslednja vrsta matrica Vt\n",
    "    #skaliramo tako da element na poziciji 0,0 bude 1\n",
    "    P = Vt[-1] / Vt[-1, 0]\n",
    "    P = P.round(4)\n",
    "    P = P.reshape(3,4)\n",
    "   \n",
    "    return P\n",
    "   "
   ]
  },
  {
   "cell_type": "code",
   "execution_count": 296,
   "metadata": {},
   "outputs": [
    {
     "name": "stdout",
     "output_type": "stream",
     "text": [
      "[[     1.        -10.98       33.956   -9692.0317]\n",
      " [    26.7404    -10.7543     34.2971 -20328.2746]\n",
      " [     0.0417     -0.0073      0.0722    -46.8369]]\n"
     ]
    }
   ],
   "source": [
    "#Provera za test primer sa sajta\n",
    "n = 11\n",
    "\n",
    "M1 = np.array([460, 280, 250, 1])\n",
    "M2 = np.array([50, 380, 350, 1])\n",
    "M3 = np.array([470, 500, 100, 1])\n",
    "M4 = np.array([380, 630, 50 * n, 1])\n",
    "M5 = np.array([30 * n, 290, 0, 1])\n",
    "M6 = np.array([580, 0, 130, 1])\n",
    "originali = np.array([M1, M2, M3, M4, M5, M6])\n",
    "\n",
    "M1p = np.array([288, 251, 1])\n",
    "M2p = np.array([79, 510, 1])\n",
    "M3p = np.array([470, 440, 1])\n",
    "M4p = np.array([520, 590, 1])\n",
    "M5p = np.array([365, 388, 1])\n",
    "M6p = np.array([365, 20, 1])\n",
    "projekcije = np.array([M1p, M2p, M3p, M4p, M5p, M6p])\n",
    "\n",
    "P = CameraDLP(originali, projekcije)\n",
    "print(P)\n"
   ]
  },
  {
   "cell_type": "code",
   "execution_count": 297,
   "metadata": {
    "scrolled": true
   },
   "outputs": [
    {
     "name": "stdout",
     "output_type": "stream",
     "text": [
      "[[   1.        0.0745   -5.0679 2018.1865]\n",
      " [  -1.9611    3.0481   -0.9949 1373.4418]\n",
      " [  -0.0011   -0.0026   -0.0038    6.4399]]\n"
     ]
    }
   ],
   "source": [
    "#Provera za moj broj indeksa (21/2017, n = 1)\n",
    "n = 1\n",
    "\n",
    "M1 = np.array([460, 280, 250, 1])\n",
    "M2 = np.array([50, 380, 350, 1])\n",
    "M3 = np.array([470, 500, 100, 1])\n",
    "M4 = np.array([380, 630, 50 * n, 1])\n",
    "M5 = np.array([30 * n, 290, 0, 1])\n",
    "M6 = np.array([580, 0, 130, 1])\n",
    "originali = np.array([M1, M2, M3, M4, M5, M6])\n",
    "\n",
    "M1p = np.array([288, 251, 1])\n",
    "M2p = np.array([79, 510, 1])\n",
    "M3p = np.array([470, 440, 1])\n",
    "M4p = np.array([520, 590, 1])\n",
    "M5p = np.array([365, 388, 1])\n",
    "M6p = np.array([365, 20, 1])\n",
    "projekcije = np.array([M1p, M2p, M3p, M4p, M5p, M6p])\n",
    "\n",
    "P = CameraDLP(originali, projekcije)\n",
    "print(P)"
   ]
  },
  {
   "cell_type": "code",
   "execution_count": null,
   "metadata": {},
   "outputs": [],
   "source": []
  },
  {
   "cell_type": "code",
   "execution_count": null,
   "metadata": {},
   "outputs": [],
   "source": []
  },
  {
   "cell_type": "code",
   "execution_count": null,
   "metadata": {},
   "outputs": [],
   "source": []
  }
 ],
 "metadata": {
  "kernelspec": {
   "display_name": "Python 3",
   "language": "python",
   "name": "python3"
  },
  "language_info": {
   "codemirror_mode": {
    "name": "ipython",
    "version": 3
   },
   "file_extension": ".py",
   "mimetype": "text/x-python",
   "name": "python",
   "nbconvert_exporter": "python",
   "pygments_lexer": "ipython3",
   "version": "3.6.9"
  }
 },
 "nbformat": 4,
 "nbformat_minor": 4
}
