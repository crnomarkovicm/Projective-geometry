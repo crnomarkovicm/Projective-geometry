{
 "cells": [
  {
   "cell_type": "code",
   "execution_count": 15,
   "metadata": {},
   "outputs": [],
   "source": [
    "import numpy as np\n",
    "import math\n",
    "from numpy import linalg as LA"
   ]
  },
  {
   "cell_type": "markdown",
   "metadata": {},
   "source": [
    "## Treci domaci: Izometrije prostora\n",
    "\n",
    "#### 1. funkcija: Euler2A\n",
    "- kao ulazne parametre prima tri Ojlerova ugla i za njih racuna matricu A"
   ]
  },
  {
   "cell_type": "code",
   "execution_count": 16,
   "metadata": {},
   "outputs": [],
   "source": [
    "def Euler2A(fi, teta, psi):\n",
    "\n",
    "    Rz = np.array([[math.cos(psi), -math.sin(psi), 0],\n",
    "                   [math.sin(psi), math.cos(psi), 0],\n",
    "                   [0, 0, 1]])\n",
    "\n",
    "    Ry = np.array([[math.cos(teta), 0, math.sin(teta)],\n",
    "                   [0, 1, 0],\n",
    "                   [-math.sin(teta), 0, math.cos(teta)]])\n",
    "\n",
    "    Rx = np.array([[1, 0, 0],\n",
    "                   [0, math.cos(fi), -math.sin(fi)],\n",
    "                   [0, math.sin(fi), math.cos(fi)]])\n",
    "\n",
    "    return Rz.dot(Ry).dot(Rx)\n"
   ]
  },
  {
   "cell_type": "markdown",
   "metadata": {},
   "source": [
    "#### 2. funkcija: AxisAngle\n",
    "- predstavlja matricu A preko ose i ugla"
   ]
  },
  {
   "cell_type": "code",
   "execution_count": 17,
   "metadata": {},
   "outputs": [],
   "source": [
    "def AxisAngle(A):\n",
    "    \n",
    "    if round(LA.det(A)) != 1:\n",
    "        print(\"Determinanta je razlicita od 1\")\n",
    "        return\n",
    "\n",
    "    if np.any(np.round(A.dot(A.T),6) != np.eye(3)):\n",
    "        print(\"Matrica A nije ortogonalna\")\n",
    "        return\n",
    "    \n",
    "    lambdas, vector = np.linalg.eig(A, )\n",
    "    for i in range(len(lambdas)):\n",
    "        if np.round(lambdas[i], 6) == 1.0:\n",
    "            p = np.real(vector[:, i])\n",
    "\n",
    "    p1 = p[0]\n",
    "    p2 = p[1]\n",
    "    p3 = p[2]\n",
    "    if p1 == 0 and p2 == 0 and p3 == 0:\n",
    "        print(\"Ne smeju sve tri koordinate da budu 0\")\n",
    "        return\n",
    "    elif p1 != 0:\n",
    "        u = np.cross(p, np.array([-p1, p2, p3]))\n",
    "    elif p2 != 0:\n",
    "        u = np.cross(p, np.array([p1, -p2, p3]))\n",
    "    else:\n",
    "        u = np.cross(p, np.array([p1, p2, -p3]))\n",
    "    u = u/math.sqrt(u[0]**2+u[1]**2+u[2]**2)\n",
    "\n",
    "    up = A.dot(u)\n",
    "\n",
    "    fi = np.round(math.acos(np.sum(u*up)), 5)\n",
    "    if np.round(np.sum(np.cross(u, up)*p), 5) < 0:\n",
    "        p = (-1)*p\n",
    "\n",
    "    return [p, fi]"
   ]
  },
  {
   "cell_type": "markdown",
   "metadata": {},
   "source": [
    "#### 3. funkcija: Rodrigez\n",
    "- za zadatu osu i ugao odredjuje matricu A"
   ]
  },
  {
   "cell_type": "code",
   "execution_count": 18,
   "metadata": {},
   "outputs": [],
   "source": [
    "def Rodrigez(p, fi):\n",
    "\n",
    "    p1 = p[0]\n",
    "    p2 = p[1]\n",
    "    p3 = p[2]\n",
    "\n",
    "    Px = np.array([[0, -p3, p2],\n",
    "                   [p3, 0, -p1],\n",
    "                   [-p2, p1, 0]])\n",
    "\n",
    "    E = np.eye(3)\n",
    "    p = np.reshape(p, (3, 1))\n",
    "    Rp = p.dot(p.T) + math.cos(fi)*(E - p.dot(p.T)) + math.sin(fi)*Px\n",
    "\n",
    "    return Rp"
   ]
  },
  {
   "cell_type": "markdown",
   "metadata": {},
   "source": [
    "#### 4. funkcija: A2Euler\n",
    "- za zadatu matricu A odredjuje njene Ojlerove uglove"
   ]
  },
  {
   "cell_type": "code",
   "execution_count": 19,
   "metadata": {},
   "outputs": [],
   "source": [
    "def A2Euler(A):\n",
    "    if round(LA.det(A)) != 1:\n",
    "        print(\"Determinanta je razlicita od 1\")\n",
    "        return\n",
    "\n",
    "    if np.any(np.round(A.dot(A.T),6) != np.eye(3)):\n",
    "        print(\"Matrica A nije ortogonalna\")\n",
    "        return\n",
    "    \n",
    "    fi, teta, psi = 0, 0, 0\n",
    "    if A[2, 0] < 1:\n",
    "        if A[2, 0] > -1:\n",
    "            psi = math.atan2(A[1, 0], A[0, 0])\n",
    "            teta = math.asin((-1)*A[2, 0])\n",
    "            fi = math.atan2(A[2, 1], A[2, 2])\n",
    "        else:\n",
    "            psi = math.atan2((-1)*A[0, 1], A[1, 1])\n",
    "            teta = math.pi/2.0\n",
    "            fi = 0.0\n",
    "    else:\n",
    "        psi = math.atan2((-1)*A[0, 1], A[1, 1])\n",
    "        teta = (-1.0)*math.pi/2.0\n",
    "        fi = 0\n",
    "\n",
    "    return([fi, teta, psi])"
   ]
  },
  {
   "cell_type": "markdown",
   "metadata": {},
   "source": [
    "#### 5. funkcija: AxisAngle2Q\n",
    "- preko ose i ugla odredjuje jedinicni kvaternion"
   ]
  },
  {
   "cell_type": "code",
   "execution_count": 20,
   "metadata": {},
   "outputs": [],
   "source": [
    "def AxisAngle2Q(p, fi):\n",
    "    w = math.cos(fi/2.0)\n",
    "    norm = np.linalg.norm(p)\n",
    "    if norm != 0:\n",
    "        p = p/norm\n",
    "    [x, y, z] = math.sin(fi/2.0) * p\n",
    "    return [x, y, z, w]"
   ]
  },
  {
   "cell_type": "markdown",
   "metadata": {},
   "source": [
    "#### 6. funkcija: Q2AxisAngle\n",
    "- zadati jedinicni kvaternion vraca u osu i ugao"
   ]
  },
  {
   "cell_type": "code",
   "execution_count": 21,
   "metadata": {},
   "outputs": [],
   "source": [
    "def Q2AxisAngle(q):\n",
    "    if q[0] == 0 and q[1] == 0 and q[2] == 0:\n",
    "        print(\"Kvaternion ne sme biti 0\")\n",
    "        return\n",
    "    \n",
    "    #normalizujemo kvaternion\n",
    "    norm = np.linalg.norm(q)\n",
    "    if norm != 0:\n",
    "        q = q/norm\n",
    "\n",
    "    fi = 2*math.acos(q[3])\n",
    "    if abs(q[3]) == 1:\n",
    "        p = [1, 0, 0]\n",
    "    else:\n",
    "        norm = np.linalg.norm(np.array([q[0], q[1], q[2]]))\n",
    "        p = np.array([q[0], q[1], q[2]])\n",
    "        if norm != 0:\n",
    "            p = p / norm\n",
    "\n",
    "    return [p, fi]"
   ]
  },
  {
   "cell_type": "code",
   "execution_count": null,
   "metadata": {},
   "outputs": [],
   "source": []
  },
  {
   "cell_type": "markdown",
   "metadata": {},
   "source": [
    "### Testiranje funkcija:"
   ]
  },
  {
   "cell_type": "code",
   "execution_count": 22,
   "metadata": {},
   "outputs": [
    {
     "name": "stdout",
     "output_type": "stream",
     "text": [
      "Ugao fi: -0.24497866312686414\n",
      "Ugao teta: -1.09491407713448\n",
      "Ugao psi: 1.3258176636680326\n",
      "\n",
      "Matrica A (dobijena funkcijom Euler2A):\n",
      " \n",
      "[[ 0.11111111 -0.88888889 -0.44444444]\n",
      " [ 0.44444444  0.44444444 -0.77777778]\n",
      " [ 0.88888889 -0.11111111  0.44444444]] \n",
      "\n",
      "Matrica A predstavljena preko ose i ugla (dobijena funkcijom AxisAngle): \n",
      "\n",
      "[array([ 0.33333333, -0.66666667,  0.66666667]), 1.5708] \n",
      "\n",
      "Za dobijenu osu i ugao odredjujemo matricu A (funkcijom Rodrigez): \n",
      "\n",
      "[[ 0.11110785 -0.88888971 -0.44444363]\n",
      " [ 0.44444363  0.4444424  -0.77777941]\n",
      " [ 0.88888971 -0.11111274  0.4444424 ]] \n",
      "\n",
      "Odredjujemo Ojlerove uglove za matricu A (funkcijom A2Euler): \n",
      "\n",
      "[-0.24497866312686414, -1.09491407713448, 1.3258176636680326] \n",
      "\n",
      "Preko ose i ugla dobijamo jedinicni kvaternion (funkcijom AxisAngle2Q): \n",
      "\n",
      "[0.23570269328649118, -0.4714053865729824, 0.4714053865729824, 0.7071054825112363] \n",
      "\n",
      "Dobijeni kvaternion vracamo u osu i ugao (funkcijom Q2AxisAngle): \n",
      "\n",
      "[array([ 0.33333333, -0.66666667,  0.66666667]), 1.5708] \n",
      "\n"
     ]
    }
   ],
   "source": [
    "fi = -math.atan(1/4)\n",
    "print(\"Ugao fi:\",fi)\n",
    "\n",
    "teta = -math.asin(8/9)\n",
    "print(\"Ugao teta:\",teta)\n",
    "psi = math.atan(4)\n",
    "\n",
    "print(\"Ugao psi:\", psi)\n",
    "print()\n",
    "\n",
    "print(\"Matrica A (dobijena funkcijom Euler2A):\\n \")\n",
    "A = Euler2A(fi, teta, psi)\n",
    "print(A, \"\\n\")\n",
    "\n",
    "print(\"Matrica A predstavljena preko ose i ugla (dobijena funkcijom AxisAngle): \\n\")\n",
    "N = AxisAngle(A)\n",
    "print(N, \"\\n\")\n",
    "\n",
    "p = N[0] #osa\n",
    "fi = N[1] #ugao\n",
    "\n",
    "print(\"Za dobijenu osu i ugao odredjujemo matricu A (funkcijom Rodrigez): \\n\")\n",
    "A_new = Rodrigez(p,fi)\n",
    "print(A_new, \"\\n\")\n",
    "\n",
    "print(\"Odredjujemo Ojlerove uglove za matricu A (funkcijom A2Euler): \\n\")\n",
    "X = A2Euler(A)\n",
    "print(X, \"\\n\")\n",
    "\n",
    "print(\"Preko ose i ugla dobijamo jedinicni kvaternion (funkcijom AxisAngle2Q): \\n\")\n",
    "q = AxisAngle2Q(p,fi)\n",
    "print(q, \"\\n\")\n",
    "\n",
    "print(\"Dobijeni kvaternion vracamo u osu i ugao (funkcijom Q2AxisAngle): \\n\")\n",
    "X = Q2AxisAngle(q)\n",
    "print(X, \"\\n\")"
   ]
  },
  {
   "cell_type": "code",
   "execution_count": null,
   "metadata": {},
   "outputs": [],
   "source": []
  }
 ],
 "metadata": {
  "kernelspec": {
   "display_name": "Python 3",
   "language": "python",
   "name": "python3"
  },
  "language_info": {
   "codemirror_mode": {
    "name": "ipython",
    "version": 3
   },
   "file_extension": ".py",
   "mimetype": "text/x-python",
   "name": "python",
   "nbconvert_exporter": "python",
   "pygments_lexer": "ipython3",
   "version": "3.6.9"
  }
 },
 "nbformat": 4,
 "nbformat_minor": 4
}
